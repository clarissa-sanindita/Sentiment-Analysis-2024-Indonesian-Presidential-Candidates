{
  "nbformat": 4,
  "nbformat_minor": 0,
  "metadata": {
    "colab": {
      "provenance": []
    },
    "kernelspec": {
      "name": "python3",
      "display_name": "Python 3"
    },
    "language_info": {
      "name": "python"
    }
  },
  "cells": [
    {
      "cell_type": "markdown",
      "source": [
        "Nama Kelompok:\n",
        "1.   Alviatul Nazila (202010370311293)\n",
        "2.   Clarissa Sanindita Reikisyifa (202010370311232)"
      ],
      "metadata": {
        "id": "kwAhz43wNsV2"
      }
    },
    {
      "cell_type": "markdown",
      "source": [
        "# Import Library"
      ],
      "metadata": {
        "id": "CVqixwG7VCZV"
      }
    },
    {
      "cell_type": "code",
      "execution_count": null,
      "metadata": {
        "id": "tX7sy4oKzHr3"
      },
      "outputs": [],
      "source": [
        "import pandas as pd\n",
        "import numpy as np\n",
        "import seaborn as sns\n",
        "import re\n",
        "\n",
        "from matplotlib import pyplot as plt\n",
        "from sklearn.preprocessing import LabelEncoder, OneHotEncoder, OrdinalEncoder, StandardScaler, MinMaxScaler\n",
        "from sklearn.ensemble import RandomForestClassifier\n",
        "from sklearn.model_selection import train_test_split\n",
        "from sklearn.metrics import accuracy_score"
      ]
    },
    {
      "cell_type": "markdown",
      "source": [
        "# Load Dataset"
      ],
      "metadata": {
        "id": "khYV9iwUVGZK"
      }
    },
    {
      "cell_type": "code",
      "source": [
        "from google.colab import drive\n",
        "drive.mount('/content/drive')"
      ],
      "metadata": {
        "colab": {
          "base_uri": "https://localhost:8080/"
        },
        "id": "tCuPfh8p5qu2",
        "outputId": "5dd1890f-869e-4845-af80-f8076501fd0b"
      },
      "execution_count": null,
      "outputs": [
        {
          "output_type": "stream",
          "name": "stdout",
          "text": [
            "Drive already mounted at /content/drive; to attempt to forcibly remount, call drive.mount(\"/content/drive\", force_remount=True).\n"
          ]
        }
      ]
    },
    {
      "cell_type": "code",
      "source": [
        "url = '/content/drive/MyDrive/combine_data_proses.csv'\n",
        "df = pd.read_csv(url)"
      ],
      "metadata": {
        "id": "ZuwcuBhS5sWU"
      },
      "execution_count": null,
      "outputs": []
    },
    {
      "cell_type": "code",
      "source": [
        "df"
      ],
      "metadata": {
        "colab": {
          "base_uri": "https://localhost:8080/",
          "height": 1000
        },
        "id": "YqI41dXgygWi",
        "outputId": "922355fc-2eb9-4bb0-cb58-b3335abc339e"
      },
      "execution_count": null,
      "outputs": [
        {
          "output_type": "execute_result",
          "data": {
            "text/plain": [
              "                                               emoticon  \\\n",
              "0     @DPP_PKB @cakimiNOW Cak Imin sangat berkarisma...   \n",
              "1     @Adiprayitno_20 lho...lho gak bahaya tah kalau...   \n",
              "2     @FandiFrezian @sasbudiarjo @kikysaputrii Karna...   \n",
              "3     Cak Imin Tak Khawatir Yenny Dukung Ganjar-Mahf...   \n",
              "4     Susi Pudjiastuti Dikabarkan Masuk Calon Kapten...   \n",
              "...                                                 ...   \n",
              "3001  @kasrulsani9 @Cintada16 @Leonita_Lestari Prof ...   \n",
              "3002  @Melihat_Indo Alhamdulillah, semakin yakin kem...   \n",
              "3003  @gus_dibyo Pak Bas sosok yg berkarakter kuat d...   \n",
              "3004  @Gus_Raharjo Indonesia harus di pimpin oleh or...   \n",
              "3005  @Leony_aja @ganjarpranowo Gaspol Ganjar-Mahfud...   \n",
              "\n",
              "                                          convert_emoji  \\\n",
              "0     Cak Imin sangat berkarismatik ....memang cocok...   \n",
              "1     lho...lho gak bahaya tah kalau cawapres juga d...   \n",
              "2     Karna posisinya pak Anis masih jadi Gubernur D...   \n",
              "3     Cak Imin Tak Khawatir Yenny Dukung Ganjar-Mahf...   \n",
              "4     Susi Pudjiastuti Dikabarkan Masuk Calon Kapten...   \n",
              "...                                                 ...   \n",
              "3001  Prof pak Mahfud MD kok di LAWAN grinning_face ...   \n",
              "3002  Alhamdulillah, semakin yakin kemenangan Ganjar...   \n",
              "3003  Pak Bas sosok yg berkarakter kuat dan hebat, I...   \n",
              "3004  Indonesia harus di pimpin oleh orang yg bener2...   \n",
              "3005                               Gaspol Ganjar-Mahfud   \n",
              "\n",
              "                                        translate_emoji  \\\n",
              "0     Cak Imin sangat berkarismatik ....memang cocok...   \n",
              "1     lho...lho gak bahaya tah kalau cawapres juga d...   \n",
              "2     Karna posisinya pak Anis masih jadi Gubernur D...   \n",
              "3     Cak Imin Tak Khawatir Yenny Dukung Ganjar-Mahf...   \n",
              "4     Susi Pudjiastuti Dikabarkan Masuk Calon Kapten...   \n",
              "...                                                 ...   \n",
              "3001  Prof pak Mahfud MD kok di LAWAN wajah menyerin...   \n",
              "3002  Alhamdulillah, semakin yakin kemenangan Ganjar...   \n",
              "3003  Pak Bas sosok yg berkarakter kuat dan hebat, I...   \n",
              "3004  Indonesia harus di pimpin oleh orang yg bener2...   \n",
              "3005                               Gaspol Ganjar-Mahfud   \n",
              "\n",
              "                                                cleaned  \\\n",
              "0     cak imin sangat berkarismatik memang cocok men...   \n",
              "1     lholho gak bahaya tah kalau cawapres juga diun...   \n",
              "2     karna posisinya pak anis masih jadi gubernur d...   \n",
              "3     cak imin tak khawatir yenny dukung ganjarmahfu...   \n",
              "4     susi pudjiastuti dikabarkan masuk calon kapten...   \n",
              "...                                                 ...   \n",
              "3001  prof pak mahfud md kok di lawan wajah menyerin...   \n",
              "3002  alhamdulillah semakin yakin kemenangan ganjar ...   \n",
              "3003  pak bas sosok yg berkarakter kuat dan hebat in...   \n",
              "3004  indonesia harus di pimpin oleh orang yg bener ...   \n",
              "3005                                gaspol ganjarmahfud   \n",
              "\n",
              "                                               tokenize  \\\n",
              "0     ['cak', 'imin', 'sangat', 'berkarismatik', 'me...   \n",
              "1     ['lholho', 'gak', 'bahaya', 'tah', 'kalau', 'c...   \n",
              "2     ['karna', 'posisinya', 'pak', 'anis', 'masih',...   \n",
              "3     ['cak', 'imin', 'tak', 'khawatir', 'yenny', 'd...   \n",
              "4     ['susi', 'pudjiastuti', 'dikabarkan', 'masuk',...   \n",
              "...                                                 ...   \n",
              "3001  ['prof', 'pak', 'mahfud', 'md', 'kok', 'di', '...   \n",
              "3002  ['alhamdulillah', 'semakin', 'yakin', 'kemenan...   \n",
              "3003  ['pak', 'bas', 'sosok', 'yg', 'berkarakter', '...   \n",
              "3004  ['indonesia', 'harus', 'di', 'pimpin', 'oleh',...   \n",
              "3005                         ['gaspol', 'ganjarmahfud']   \n",
              "\n",
              "                                          normalization  \\\n",
              "0     ['cak', 'imin', 'sangat', 'berkarismatik', 'me...   \n",
              "1     ['lholho', 'gak', 'bahaya', 'tah', 'kalau', 'c...   \n",
              "2     ['karena', 'posisinya', 'pak', 'anis', 'masih'...   \n",
              "3     ['cak', 'imin', 'tak', 'khawatir', 'yenny', 'd...   \n",
              "4     ['susi', 'pudjiastuti', 'dikabarkan', 'masuk',...   \n",
              "...                                                 ...   \n",
              "3001  ['prof', 'pak', 'mahfud', 'md', 'kok', 'di', '...   \n",
              "3002  ['alhamdulillah', 'semakin', 'yakin', 'kemenan...   \n",
              "3003  ['pak', 'bas', 'sosok', 'yg', 'berkarakter', '...   \n",
              "3004  ['indonesia', 'harus', 'di', 'pimpin', 'oleh',...   \n",
              "3005                         ['gaspol', 'ganjarmahfud']   \n",
              "\n",
              "                                                stemmed  \\\n",
              "0     ['cak', 'imin', 'sangat', 'karismatik', 'meman...   \n",
              "1     ['lholho', 'gak', 'bahaya', 'tah', 'kalau', 'c...   \n",
              "2     ['karena', 'posisi', 'pak', 'anis', 'masih', '...   \n",
              "3     ['cak', 'imin', 'tak', 'khawatir', 'yenny', 'd...   \n",
              "4     ['sus', 'pudjiastuti', 'kabar', 'masuk', 'calo...   \n",
              "...                                                 ...   \n",
              "3001  ['prof', 'pak', 'mahfud', 'md', 'kok', 'di', '...   \n",
              "3002  ['alhamdulillah', 'makin', 'yakin', 'menang', ...   \n",
              "3003  ['pak', 'bas', 'sosok', 'yg', 'karakter', 'kua...   \n",
              "3004  ['indonesia', 'harus', 'di', 'pimpin', 'oleh',...   \n",
              "3005                         ['gaspol', 'ganjarmahfud']   \n",
              "\n",
              "                                      stopwords_stemmed  \\\n",
              "0     ['cak', 'imin', 'karismatik', 'cocok', 'dampin...   \n",
              "1     ['lholho', 'gak', 'bahaya', 'cawapres', 'undan...   \n",
              "2     ['anis', 'gubernur', 'dki', 'cak', 'imin', 'da...   \n",
              "3     ['cak', 'imin', 'khawatir', 'yenny', 'dukung',...   \n",
              "4     ['sus', 'pudjiastuti', 'kabar', 'calon', 'kapt...   \n",
              "...                                                 ...   \n",
              "3001  ['prof', 'mahfud', 'lawan', 'seringai', 'serin...   \n",
              "3002         ['menang', 'ganjar', 'mahfud', 'semangat']   \n",
              "3003  ['sosok', 'karakter', 'kuat', 'hebat', 'insyaa...   \n",
              "3004  ['indonesia', 'pimpin', 'paham', 'konstitusi',...   \n",
              "3005                         ['gaspol', 'ganjarmahfud']   \n",
              "\n",
              "                                    text_string_stemmed     label  \n",
              "0                cak imin karismatik cocok damping anis  positive  \n",
              "1         lholho gak bahaya cawapres undang makan siang  negative  \n",
              "2     anis gubernur dki cak imin dateng lapor cawapr...  positive  \n",
              "3     cak imin khawatir yenny dukung ganjarmahfud su...   neutral  \n",
              "4     sus pudjiastuti kabar calon kapten timnas mena...  positive  \n",
              "...                                                 ...       ...  \n",
              "3001  prof mahfud lawan seringai seringai bergulingg...  positive  \n",
              "3002                      menang ganjar mahfud semangat  positive  \n",
              "3003  sosok karakter kuat hebat insyaallah ganjar ma...  positive  \n",
              "3004    indonesia pimpin paham konstitusi ganjar mahfud  positive  \n",
              "3005                                gaspol ganjarmahfud  positive  \n",
              "\n",
              "[3006 rows x 10 columns]"
            ],
            "text/html": [
              "\n",
              "  <div id=\"df-a4208a70-2af2-4a18-80bd-680d8e2cb625\" class=\"colab-df-container\">\n",
              "    <div>\n",
              "<style scoped>\n",
              "    .dataframe tbody tr th:only-of-type {\n",
              "        vertical-align: middle;\n",
              "    }\n",
              "\n",
              "    .dataframe tbody tr th {\n",
              "        vertical-align: top;\n",
              "    }\n",
              "\n",
              "    .dataframe thead th {\n",
              "        text-align: right;\n",
              "    }\n",
              "</style>\n",
              "<table border=\"1\" class=\"dataframe\">\n",
              "  <thead>\n",
              "    <tr style=\"text-align: right;\">\n",
              "      <th></th>\n",
              "      <th>emoticon</th>\n",
              "      <th>convert_emoji</th>\n",
              "      <th>translate_emoji</th>\n",
              "      <th>cleaned</th>\n",
              "      <th>tokenize</th>\n",
              "      <th>normalization</th>\n",
              "      <th>stemmed</th>\n",
              "      <th>stopwords_stemmed</th>\n",
              "      <th>text_string_stemmed</th>\n",
              "      <th>label</th>\n",
              "    </tr>\n",
              "  </thead>\n",
              "  <tbody>\n",
              "    <tr>\n",
              "      <th>0</th>\n",
              "      <td>@DPP_PKB @cakimiNOW Cak Imin sangat berkarisma...</td>\n",
              "      <td>Cak Imin sangat berkarismatik ....memang cocok...</td>\n",
              "      <td>Cak Imin sangat berkarismatik ....memang cocok...</td>\n",
              "      <td>cak imin sangat berkarismatik memang cocok men...</td>\n",
              "      <td>['cak', 'imin', 'sangat', 'berkarismatik', 'me...</td>\n",
              "      <td>['cak', 'imin', 'sangat', 'berkarismatik', 'me...</td>\n",
              "      <td>['cak', 'imin', 'sangat', 'karismatik', 'meman...</td>\n",
              "      <td>['cak', 'imin', 'karismatik', 'cocok', 'dampin...</td>\n",
              "      <td>cak imin karismatik cocok damping anis</td>\n",
              "      <td>positive</td>\n",
              "    </tr>\n",
              "    <tr>\n",
              "      <th>1</th>\n",
              "      <td>@Adiprayitno_20 lho...lho gak bahaya tah kalau...</td>\n",
              "      <td>lho...lho gak bahaya tah kalau cawapres juga d...</td>\n",
              "      <td>lho...lho gak bahaya tah kalau cawapres juga d...</td>\n",
              "      <td>lholho gak bahaya tah kalau cawapres juga diun...</td>\n",
              "      <td>['lholho', 'gak', 'bahaya', 'tah', 'kalau', 'c...</td>\n",
              "      <td>['lholho', 'gak', 'bahaya', 'tah', 'kalau', 'c...</td>\n",
              "      <td>['lholho', 'gak', 'bahaya', 'tah', 'kalau', 'c...</td>\n",
              "      <td>['lholho', 'gak', 'bahaya', 'cawapres', 'undan...</td>\n",
              "      <td>lholho gak bahaya cawapres undang makan siang</td>\n",
              "      <td>negative</td>\n",
              "    </tr>\n",
              "    <tr>\n",
              "      <th>2</th>\n",
              "      <td>@FandiFrezian @sasbudiarjo @kikysaputrii Karna...</td>\n",
              "      <td>Karna posisinya pak Anis masih jadi Gubernur D...</td>\n",
              "      <td>Karna posisinya pak Anis masih jadi Gubernur D...</td>\n",
              "      <td>karna posisinya pak anis masih jadi gubernur d...</td>\n",
              "      <td>['karna', 'posisinya', 'pak', 'anis', 'masih',...</td>\n",
              "      <td>['karena', 'posisinya', 'pak', 'anis', 'masih'...</td>\n",
              "      <td>['karena', 'posisi', 'pak', 'anis', 'masih', '...</td>\n",
              "      <td>['anis', 'gubernur', 'dki', 'cak', 'imin', 'da...</td>\n",
              "      <td>anis gubernur dki cak imin dateng lapor cawapr...</td>\n",
              "      <td>positive</td>\n",
              "    </tr>\n",
              "    <tr>\n",
              "      <th>3</th>\n",
              "      <td>Cak Imin Tak Khawatir Yenny Dukung Ganjar-Mahf...</td>\n",
              "      <td>Cak Imin Tak Khawatir Yenny Dukung Ganjar-Mahf...</td>\n",
              "      <td>Cak Imin Tak Khawatir Yenny Dukung Ganjar-Mahf...</td>\n",
              "      <td>cak imin tak khawatir yenny dukung ganjarmahfu...</td>\n",
              "      <td>['cak', 'imin', 'tak', 'khawatir', 'yenny', 'd...</td>\n",
              "      <td>['cak', 'imin', 'tak', 'khawatir', 'yenny', 'd...</td>\n",
              "      <td>['cak', 'imin', 'tak', 'khawatir', 'yenny', 'd...</td>\n",
              "      <td>['cak', 'imin', 'khawatir', 'yenny', 'dukung',...</td>\n",
              "      <td>cak imin khawatir yenny dukung ganjarmahfud su...</td>\n",
              "      <td>neutral</td>\n",
              "    </tr>\n",
              "    <tr>\n",
              "      <th>4</th>\n",
              "      <td>Susi Pudjiastuti Dikabarkan Masuk Calon Kapten...</td>\n",
              "      <td>Susi Pudjiastuti Dikabarkan Masuk Calon Kapten...</td>\n",
              "      <td>Susi Pudjiastuti Dikabarkan Masuk Calon Kapten...</td>\n",
              "      <td>susi pudjiastuti dikabarkan masuk calon kapten...</td>\n",
              "      <td>['susi', 'pudjiastuti', 'dikabarkan', 'masuk',...</td>\n",
              "      <td>['susi', 'pudjiastuti', 'dikabarkan', 'masuk',...</td>\n",
              "      <td>['sus', 'pudjiastuti', 'kabar', 'masuk', 'calo...</td>\n",
              "      <td>['sus', 'pudjiastuti', 'kabar', 'calon', 'kapt...</td>\n",
              "      <td>sus pudjiastuti kabar calon kapten timnas mena...</td>\n",
              "      <td>positive</td>\n",
              "    </tr>\n",
              "    <tr>\n",
              "      <th>...</th>\n",
              "      <td>...</td>\n",
              "      <td>...</td>\n",
              "      <td>...</td>\n",
              "      <td>...</td>\n",
              "      <td>...</td>\n",
              "      <td>...</td>\n",
              "      <td>...</td>\n",
              "      <td>...</td>\n",
              "      <td>...</td>\n",
              "      <td>...</td>\n",
              "    </tr>\n",
              "    <tr>\n",
              "      <th>3001</th>\n",
              "      <td>@kasrulsani9 @Cintada16 @Leonita_Lestari Prof ...</td>\n",
              "      <td>Prof pak Mahfud MD kok di LAWAN grinning_face ...</td>\n",
              "      <td>Prof pak Mahfud MD kok di LAWAN wajah menyerin...</td>\n",
              "      <td>prof pak mahfud md kok di lawan wajah menyerin...</td>\n",
              "      <td>['prof', 'pak', 'mahfud', 'md', 'kok', 'di', '...</td>\n",
              "      <td>['prof', 'pak', 'mahfud', 'md', 'kok', 'di', '...</td>\n",
              "      <td>['prof', 'pak', 'mahfud', 'md', 'kok', 'di', '...</td>\n",
              "      <td>['prof', 'mahfud', 'lawan', 'seringai', 'serin...</td>\n",
              "      <td>prof mahfud lawan seringai seringai bergulingg...</td>\n",
              "      <td>positive</td>\n",
              "    </tr>\n",
              "    <tr>\n",
              "      <th>3002</th>\n",
              "      <td>@Melihat_Indo Alhamdulillah, semakin yakin kem...</td>\n",
              "      <td>Alhamdulillah, semakin yakin kemenangan Ganjar...</td>\n",
              "      <td>Alhamdulillah, semakin yakin kemenangan Ganjar...</td>\n",
              "      <td>alhamdulillah semakin yakin kemenangan ganjar ...</td>\n",
              "      <td>['alhamdulillah', 'semakin', 'yakin', 'kemenan...</td>\n",
              "      <td>['alhamdulillah', 'semakin', 'yakin', 'kemenan...</td>\n",
              "      <td>['alhamdulillah', 'makin', 'yakin', 'menang', ...</td>\n",
              "      <td>['menang', 'ganjar', 'mahfud', 'semangat']</td>\n",
              "      <td>menang ganjar mahfud semangat</td>\n",
              "      <td>positive</td>\n",
              "    </tr>\n",
              "    <tr>\n",
              "      <th>3003</th>\n",
              "      <td>@gus_dibyo Pak Bas sosok yg berkarakter kuat d...</td>\n",
              "      <td>Pak Bas sosok yg berkarakter kuat dan hebat, I...</td>\n",
              "      <td>Pak Bas sosok yg berkarakter kuat dan hebat, I...</td>\n",
              "      <td>pak bas sosok yg berkarakter kuat dan hebat in...</td>\n",
              "      <td>['pak', 'bas', 'sosok', 'yg', 'berkarakter', '...</td>\n",
              "      <td>['pak', 'bas', 'sosok', 'yg', 'berkarakter', '...</td>\n",
              "      <td>['pak', 'bas', 'sosok', 'yg', 'karakter', 'kua...</td>\n",
              "      <td>['sosok', 'karakter', 'kuat', 'hebat', 'insyaa...</td>\n",
              "      <td>sosok karakter kuat hebat insyaallah ganjar ma...</td>\n",
              "      <td>positive</td>\n",
              "    </tr>\n",
              "    <tr>\n",
              "      <th>3004</th>\n",
              "      <td>@Gus_Raharjo Indonesia harus di pimpin oleh or...</td>\n",
              "      <td>Indonesia harus di pimpin oleh orang yg bener2...</td>\n",
              "      <td>Indonesia harus di pimpin oleh orang yg bener2...</td>\n",
              "      <td>indonesia harus di pimpin oleh orang yg bener ...</td>\n",
              "      <td>['indonesia', 'harus', 'di', 'pimpin', 'oleh',...</td>\n",
              "      <td>['indonesia', 'harus', 'di', 'pimpin', 'oleh',...</td>\n",
              "      <td>['indonesia', 'harus', 'di', 'pimpin', 'oleh',...</td>\n",
              "      <td>['indonesia', 'pimpin', 'paham', 'konstitusi',...</td>\n",
              "      <td>indonesia pimpin paham konstitusi ganjar mahfud</td>\n",
              "      <td>positive</td>\n",
              "    </tr>\n",
              "    <tr>\n",
              "      <th>3005</th>\n",
              "      <td>@Leony_aja @ganjarpranowo Gaspol Ganjar-Mahfud...</td>\n",
              "      <td>Gaspol Ganjar-Mahfud</td>\n",
              "      <td>Gaspol Ganjar-Mahfud</td>\n",
              "      <td>gaspol ganjarmahfud</td>\n",
              "      <td>['gaspol', 'ganjarmahfud']</td>\n",
              "      <td>['gaspol', 'ganjarmahfud']</td>\n",
              "      <td>['gaspol', 'ganjarmahfud']</td>\n",
              "      <td>['gaspol', 'ganjarmahfud']</td>\n",
              "      <td>gaspol ganjarmahfud</td>\n",
              "      <td>positive</td>\n",
              "    </tr>\n",
              "  </tbody>\n",
              "</table>\n",
              "<p>3006 rows × 10 columns</p>\n",
              "</div>\n",
              "    <div class=\"colab-df-buttons\">\n",
              "\n",
              "  <div class=\"colab-df-container\">\n",
              "    <button class=\"colab-df-convert\" onclick=\"convertToInteractive('df-a4208a70-2af2-4a18-80bd-680d8e2cb625')\"\n",
              "            title=\"Convert this dataframe to an interactive table.\"\n",
              "            style=\"display:none;\">\n",
              "\n",
              "  <svg xmlns=\"http://www.w3.org/2000/svg\" height=\"24px\" viewBox=\"0 -960 960 960\">\n",
              "    <path d=\"M120-120v-720h720v720H120Zm60-500h600v-160H180v160Zm220 220h160v-160H400v160Zm0 220h160v-160H400v160ZM180-400h160v-160H180v160Zm440 0h160v-160H620v160ZM180-180h160v-160H180v160Zm440 0h160v-160H620v160Z\"/>\n",
              "  </svg>\n",
              "    </button>\n",
              "\n",
              "  <style>\n",
              "    .colab-df-container {\n",
              "      display:flex;\n",
              "      gap: 12px;\n",
              "    }\n",
              "\n",
              "    .colab-df-convert {\n",
              "      background-color: #E8F0FE;\n",
              "      border: none;\n",
              "      border-radius: 50%;\n",
              "      cursor: pointer;\n",
              "      display: none;\n",
              "      fill: #1967D2;\n",
              "      height: 32px;\n",
              "      padding: 0 0 0 0;\n",
              "      width: 32px;\n",
              "    }\n",
              "\n",
              "    .colab-df-convert:hover {\n",
              "      background-color: #E2EBFA;\n",
              "      box-shadow: 0px 1px 2px rgba(60, 64, 67, 0.3), 0px 1px 3px 1px rgba(60, 64, 67, 0.15);\n",
              "      fill: #174EA6;\n",
              "    }\n",
              "\n",
              "    .colab-df-buttons div {\n",
              "      margin-bottom: 4px;\n",
              "    }\n",
              "\n",
              "    [theme=dark] .colab-df-convert {\n",
              "      background-color: #3B4455;\n",
              "      fill: #D2E3FC;\n",
              "    }\n",
              "\n",
              "    [theme=dark] .colab-df-convert:hover {\n",
              "      background-color: #434B5C;\n",
              "      box-shadow: 0px 1px 3px 1px rgba(0, 0, 0, 0.15);\n",
              "      filter: drop-shadow(0px 1px 2px rgba(0, 0, 0, 0.3));\n",
              "      fill: #FFFFFF;\n",
              "    }\n",
              "  </style>\n",
              "\n",
              "    <script>\n",
              "      const buttonEl =\n",
              "        document.querySelector('#df-a4208a70-2af2-4a18-80bd-680d8e2cb625 button.colab-df-convert');\n",
              "      buttonEl.style.display =\n",
              "        google.colab.kernel.accessAllowed ? 'block' : 'none';\n",
              "\n",
              "      async function convertToInteractive(key) {\n",
              "        const element = document.querySelector('#df-a4208a70-2af2-4a18-80bd-680d8e2cb625');\n",
              "        const dataTable =\n",
              "          await google.colab.kernel.invokeFunction('convertToInteractive',\n",
              "                                                    [key], {});\n",
              "        if (!dataTable) return;\n",
              "\n",
              "        const docLinkHtml = 'Like what you see? Visit the ' +\n",
              "          '<a target=\"_blank\" href=https://colab.research.google.com/notebooks/data_table.ipynb>data table notebook</a>'\n",
              "          + ' to learn more about interactive tables.';\n",
              "        element.innerHTML = '';\n",
              "        dataTable['output_type'] = 'display_data';\n",
              "        await google.colab.output.renderOutput(dataTable, element);\n",
              "        const docLink = document.createElement('div');\n",
              "        docLink.innerHTML = docLinkHtml;\n",
              "        element.appendChild(docLink);\n",
              "      }\n",
              "    </script>\n",
              "  </div>\n",
              "\n",
              "\n",
              "<div id=\"df-37a4f8ef-fd36-4f3c-bf93-390081fbee3b\">\n",
              "  <button class=\"colab-df-quickchart\" onclick=\"quickchart('df-37a4f8ef-fd36-4f3c-bf93-390081fbee3b')\"\n",
              "            title=\"Suggest charts\"\n",
              "            style=\"display:none;\">\n",
              "\n",
              "<svg xmlns=\"http://www.w3.org/2000/svg\" height=\"24px\"viewBox=\"0 0 24 24\"\n",
              "     width=\"24px\">\n",
              "    <g>\n",
              "        <path d=\"M19 3H5c-1.1 0-2 .9-2 2v14c0 1.1.9 2 2 2h14c1.1 0 2-.9 2-2V5c0-1.1-.9-2-2-2zM9 17H7v-7h2v7zm4 0h-2V7h2v10zm4 0h-2v-4h2v4z\"/>\n",
              "    </g>\n",
              "</svg>\n",
              "  </button>\n",
              "\n",
              "<style>\n",
              "  .colab-df-quickchart {\n",
              "      --bg-color: #E8F0FE;\n",
              "      --fill-color: #1967D2;\n",
              "      --hover-bg-color: #E2EBFA;\n",
              "      --hover-fill-color: #174EA6;\n",
              "      --disabled-fill-color: #AAA;\n",
              "      --disabled-bg-color: #DDD;\n",
              "  }\n",
              "\n",
              "  [theme=dark] .colab-df-quickchart {\n",
              "      --bg-color: #3B4455;\n",
              "      --fill-color: #D2E3FC;\n",
              "      --hover-bg-color: #434B5C;\n",
              "      --hover-fill-color: #FFFFFF;\n",
              "      --disabled-bg-color: #3B4455;\n",
              "      --disabled-fill-color: #666;\n",
              "  }\n",
              "\n",
              "  .colab-df-quickchart {\n",
              "    background-color: var(--bg-color);\n",
              "    border: none;\n",
              "    border-radius: 50%;\n",
              "    cursor: pointer;\n",
              "    display: none;\n",
              "    fill: var(--fill-color);\n",
              "    height: 32px;\n",
              "    padding: 0;\n",
              "    width: 32px;\n",
              "  }\n",
              "\n",
              "  .colab-df-quickchart:hover {\n",
              "    background-color: var(--hover-bg-color);\n",
              "    box-shadow: 0 1px 2px rgba(60, 64, 67, 0.3), 0 1px 3px 1px rgba(60, 64, 67, 0.15);\n",
              "    fill: var(--button-hover-fill-color);\n",
              "  }\n",
              "\n",
              "  .colab-df-quickchart-complete:disabled,\n",
              "  .colab-df-quickchart-complete:disabled:hover {\n",
              "    background-color: var(--disabled-bg-color);\n",
              "    fill: var(--disabled-fill-color);\n",
              "    box-shadow: none;\n",
              "  }\n",
              "\n",
              "  .colab-df-spinner {\n",
              "    border: 2px solid var(--fill-color);\n",
              "    border-color: transparent;\n",
              "    border-bottom-color: var(--fill-color);\n",
              "    animation:\n",
              "      spin 1s steps(1) infinite;\n",
              "  }\n",
              "\n",
              "  @keyframes spin {\n",
              "    0% {\n",
              "      border-color: transparent;\n",
              "      border-bottom-color: var(--fill-color);\n",
              "      border-left-color: var(--fill-color);\n",
              "    }\n",
              "    20% {\n",
              "      border-color: transparent;\n",
              "      border-left-color: var(--fill-color);\n",
              "      border-top-color: var(--fill-color);\n",
              "    }\n",
              "    30% {\n",
              "      border-color: transparent;\n",
              "      border-left-color: var(--fill-color);\n",
              "      border-top-color: var(--fill-color);\n",
              "      border-right-color: var(--fill-color);\n",
              "    }\n",
              "    40% {\n",
              "      border-color: transparent;\n",
              "      border-right-color: var(--fill-color);\n",
              "      border-top-color: var(--fill-color);\n",
              "    }\n",
              "    60% {\n",
              "      border-color: transparent;\n",
              "      border-right-color: var(--fill-color);\n",
              "    }\n",
              "    80% {\n",
              "      border-color: transparent;\n",
              "      border-right-color: var(--fill-color);\n",
              "      border-bottom-color: var(--fill-color);\n",
              "    }\n",
              "    90% {\n",
              "      border-color: transparent;\n",
              "      border-bottom-color: var(--fill-color);\n",
              "    }\n",
              "  }\n",
              "</style>\n",
              "\n",
              "  <script>\n",
              "    async function quickchart(key) {\n",
              "      const quickchartButtonEl =\n",
              "        document.querySelector('#' + key + ' button');\n",
              "      quickchartButtonEl.disabled = true;  // To prevent multiple clicks.\n",
              "      quickchartButtonEl.classList.add('colab-df-spinner');\n",
              "      try {\n",
              "        const charts = await google.colab.kernel.invokeFunction(\n",
              "            'suggestCharts', [key], {});\n",
              "      } catch (error) {\n",
              "        console.error('Error during call to suggestCharts:', error);\n",
              "      }\n",
              "      quickchartButtonEl.classList.remove('colab-df-spinner');\n",
              "      quickchartButtonEl.classList.add('colab-df-quickchart-complete');\n",
              "    }\n",
              "    (() => {\n",
              "      let quickchartButtonEl =\n",
              "        document.querySelector('#df-37a4f8ef-fd36-4f3c-bf93-390081fbee3b button');\n",
              "      quickchartButtonEl.style.display =\n",
              "        google.colab.kernel.accessAllowed ? 'block' : 'none';\n",
              "    })();\n",
              "  </script>\n",
              "</div>\n",
              "    </div>\n",
              "  </div>\n"
            ]
          },
          "metadata": {},
          "execution_count": 135
        }
      ]
    },
    {
      "cell_type": "code",
      "source": [
        "df.info()"
      ],
      "metadata": {
        "colab": {
          "base_uri": "https://localhost:8080/"
        },
        "id": "BzTRwWmx5wpl",
        "outputId": "c9ebec1e-965e-4697-f4f0-e7af2c6c78ac"
      },
      "execution_count": null,
      "outputs": [
        {
          "output_type": "stream",
          "name": "stdout",
          "text": [
            "<class 'pandas.core.frame.DataFrame'>\n",
            "RangeIndex: 3006 entries, 0 to 3005\n",
            "Data columns (total 10 columns):\n",
            " #   Column               Non-Null Count  Dtype \n",
            "---  ------               --------------  ----- \n",
            " 0   emoticon             3006 non-null   object\n",
            " 1   convert_emoji        3004 non-null   object\n",
            " 2   translate_emoji      3004 non-null   object\n",
            " 3   cleaned              3004 non-null   object\n",
            " 4   tokenize             3006 non-null   object\n",
            " 5   normalization        3006 non-null   object\n",
            " 6   stemmed              3006 non-null   object\n",
            " 7   stopwords_stemmed    3006 non-null   object\n",
            " 8   text_string_stemmed  2999 non-null   object\n",
            " 9   label                3006 non-null   object\n",
            "dtypes: object(10)\n",
            "memory usage: 235.0+ KB\n"
          ]
        }
      ]
    },
    {
      "cell_type": "markdown",
      "source": [
        "# Processing"
      ],
      "metadata": {
        "id": "Hm7RRUI-VL6N"
      }
    },
    {
      "cell_type": "code",
      "source": [
        "df.isnull().sum()"
      ],
      "metadata": {
        "colab": {
          "base_uri": "https://localhost:8080/"
        },
        "id": "D5NzEt8d5yU8",
        "outputId": "24f1f7b0-77bf-47d3-d487-08168b774b59"
      },
      "execution_count": null,
      "outputs": [
        {
          "output_type": "execute_result",
          "data": {
            "text/plain": [
              "emoticon               0\n",
              "convert_emoji          2\n",
              "translate_emoji        2\n",
              "cleaned                2\n",
              "tokenize               0\n",
              "normalization          0\n",
              "stemmed                0\n",
              "stopwords_stemmed      0\n",
              "text_string_stemmed    7\n",
              "label                  0\n",
              "dtype: int64"
            ]
          },
          "metadata": {},
          "execution_count": 137
        }
      ]
    },
    {
      "cell_type": "code",
      "source": [
        "df.dropna(inplace=True)"
      ],
      "metadata": {
        "id": "bewnWVrb04Ug"
      },
      "execution_count": null,
      "outputs": []
    },
    {
      "cell_type": "code",
      "source": [
        "df.info()"
      ],
      "metadata": {
        "colab": {
          "base_uri": "https://localhost:8080/"
        },
        "id": "qVADRaWh1cP4",
        "outputId": "54bb6919-6d2a-4620-e1e6-eb018a633c34"
      },
      "execution_count": null,
      "outputs": [
        {
          "output_type": "stream",
          "name": "stdout",
          "text": [
            "<class 'pandas.core.frame.DataFrame'>\n",
            "Int64Index: 2999 entries, 0 to 3005\n",
            "Data columns (total 10 columns):\n",
            " #   Column               Non-Null Count  Dtype \n",
            "---  ------               --------------  ----- \n",
            " 0   emoticon             2999 non-null   object\n",
            " 1   convert_emoji        2999 non-null   object\n",
            " 2   translate_emoji      2999 non-null   object\n",
            " 3   cleaned              2999 non-null   object\n",
            " 4   tokenize             2999 non-null   object\n",
            " 5   normalization        2999 non-null   object\n",
            " 6   stemmed              2999 non-null   object\n",
            " 7   stopwords_stemmed    2999 non-null   object\n",
            " 8   text_string_stemmed  2999 non-null   object\n",
            " 9   label                2999 non-null   object\n",
            "dtypes: object(10)\n",
            "memory usage: 257.7+ KB\n"
          ]
        }
      ]
    },
    {
      "cell_type": "code",
      "source": [
        "df['label'].value_counts()"
      ],
      "metadata": {
        "colab": {
          "base_uri": "https://localhost:8080/"
        },
        "id": "26RcbnrnVywd",
        "outputId": "3a9e9550-21d6-41cd-aaad-c70377fcfb99"
      },
      "execution_count": null,
      "outputs": [
        {
          "output_type": "execute_result",
          "data": {
            "text/plain": [
              "positive    1546\n",
              "negative     727\n",
              "neutral      726\n",
              "Name: label, dtype: int64"
            ]
          },
          "metadata": {},
          "execution_count": 140
        }
      ]
    },
    {
      "cell_type": "markdown",
      "source": [
        "# Model"
      ],
      "metadata": {
        "id": "IoG3O_896PdK"
      }
    },
    {
      "cell_type": "code",
      "source": [
        "from sklearn.model_selection import train_test_split\n",
        "from sklearn.ensemble import RandomForestClassifier\n",
        "from sklearn.metrics import accuracy_score"
      ],
      "metadata": {
        "id": "3fljYBp35zjt"
      },
      "execution_count": null,
      "outputs": []
    },
    {
      "cell_type": "markdown",
      "source": [
        "Spliting Data Train and Data Test"
      ],
      "metadata": {
        "id": "KQEP1777VTUI"
      }
    },
    {
      "cell_type": "code",
      "source": [
        "X = df[['text_string_stemmed']]\n",
        "y = df['label']"
      ],
      "metadata": {
        "id": "zSyThKE751QJ"
      },
      "execution_count": null,
      "outputs": []
    },
    {
      "cell_type": "code",
      "source": [
        "X_train, X_test, y_train, y_test = train_test_split(X, y, test_size=0.2, random_state=42)"
      ],
      "metadata": {
        "id": "CzjlKghz54Ow"
      },
      "execution_count": null,
      "outputs": []
    },
    {
      "cell_type": "markdown",
      "source": [
        "Inisialisasi vektorizer"
      ],
      "metadata": {
        "id": "JQsEvPcRVbv_"
      }
    },
    {
      "cell_type": "code",
      "source": [
        "from sklearn.feature_extraction.text import TfidfVectorizer\n",
        "\n",
        "tfidf_vectorizer = TfidfVectorizer(max_features=1000, stop_words='english')\n"
      ],
      "metadata": {
        "id": "YSEMIJEv56KD"
      },
      "execution_count": null,
      "outputs": []
    },
    {
      "cell_type": "markdown",
      "source": [
        "Ubah teks menjadi vektor TF-IDF"
      ],
      "metadata": {
        "id": "e6pCnsJ7VgG5"
      }
    },
    {
      "cell_type": "code",
      "source": [
        "X_train_tfidf = tfidf_vectorizer.fit_transform(X_train['text_string_stemmed'])\n",
        "X_test_tfidf = tfidf_vectorizer.transform(X_test['text_string_stemmed'])"
      ],
      "metadata": {
        "id": "muIXROoG56Pp"
      },
      "execution_count": null,
      "outputs": []
    },
    {
      "cell_type": "markdown",
      "source": [
        "Inisialisasi model Random Forest"
      ],
      "metadata": {
        "id": "pb4prh5UVkHW"
      }
    },
    {
      "cell_type": "code",
      "source": [
        "rf_model = RandomForestClassifier(n_estimators=100, random_state=42)\n"
      ],
      "metadata": {
        "id": "ezDXXwnH56TD"
      },
      "execution_count": null,
      "outputs": []
    },
    {
      "cell_type": "code",
      "source": [
        "rf_model.fit(X_train_tfidf, y_train)\n"
      ],
      "metadata": {
        "colab": {
          "base_uri": "https://localhost:8080/",
          "height": 75
        },
        "id": "ZoID6JBg56VZ",
        "outputId": "49e0d2b7-412e-4bcc-ef25-53668459bcbe"
      },
      "execution_count": null,
      "outputs": [
        {
          "output_type": "execute_result",
          "data": {
            "text/plain": [
              "RandomForestClassifier(random_state=42)"
            ],
            "text/html": [
              "<style>#sk-container-id-3 {color: black;background-color: white;}#sk-container-id-3 pre{padding: 0;}#sk-container-id-3 div.sk-toggleable {background-color: white;}#sk-container-id-3 label.sk-toggleable__label {cursor: pointer;display: block;width: 100%;margin-bottom: 0;padding: 0.3em;box-sizing: border-box;text-align: center;}#sk-container-id-3 label.sk-toggleable__label-arrow:before {content: \"▸\";float: left;margin-right: 0.25em;color: #696969;}#sk-container-id-3 label.sk-toggleable__label-arrow:hover:before {color: black;}#sk-container-id-3 div.sk-estimator:hover label.sk-toggleable__label-arrow:before {color: black;}#sk-container-id-3 div.sk-toggleable__content {max-height: 0;max-width: 0;overflow: hidden;text-align: left;background-color: #f0f8ff;}#sk-container-id-3 div.sk-toggleable__content pre {margin: 0.2em;color: black;border-radius: 0.25em;background-color: #f0f8ff;}#sk-container-id-3 input.sk-toggleable__control:checked~div.sk-toggleable__content {max-height: 200px;max-width: 100%;overflow: auto;}#sk-container-id-3 input.sk-toggleable__control:checked~label.sk-toggleable__label-arrow:before {content: \"▾\";}#sk-container-id-3 div.sk-estimator input.sk-toggleable__control:checked~label.sk-toggleable__label {background-color: #d4ebff;}#sk-container-id-3 div.sk-label input.sk-toggleable__control:checked~label.sk-toggleable__label {background-color: #d4ebff;}#sk-container-id-3 input.sk-hidden--visually {border: 0;clip: rect(1px 1px 1px 1px);clip: rect(1px, 1px, 1px, 1px);height: 1px;margin: -1px;overflow: hidden;padding: 0;position: absolute;width: 1px;}#sk-container-id-3 div.sk-estimator {font-family: monospace;background-color: #f0f8ff;border: 1px dotted black;border-radius: 0.25em;box-sizing: border-box;margin-bottom: 0.5em;}#sk-container-id-3 div.sk-estimator:hover {background-color: #d4ebff;}#sk-container-id-3 div.sk-parallel-item::after {content: \"\";width: 100%;border-bottom: 1px solid gray;flex-grow: 1;}#sk-container-id-3 div.sk-label:hover label.sk-toggleable__label {background-color: #d4ebff;}#sk-container-id-3 div.sk-serial::before {content: \"\";position: absolute;border-left: 1px solid gray;box-sizing: border-box;top: 0;bottom: 0;left: 50%;z-index: 0;}#sk-container-id-3 div.sk-serial {display: flex;flex-direction: column;align-items: center;background-color: white;padding-right: 0.2em;padding-left: 0.2em;position: relative;}#sk-container-id-3 div.sk-item {position: relative;z-index: 1;}#sk-container-id-3 div.sk-parallel {display: flex;align-items: stretch;justify-content: center;background-color: white;position: relative;}#sk-container-id-3 div.sk-item::before, #sk-container-id-3 div.sk-parallel-item::before {content: \"\";position: absolute;border-left: 1px solid gray;box-sizing: border-box;top: 0;bottom: 0;left: 50%;z-index: -1;}#sk-container-id-3 div.sk-parallel-item {display: flex;flex-direction: column;z-index: 1;position: relative;background-color: white;}#sk-container-id-3 div.sk-parallel-item:first-child::after {align-self: flex-end;width: 50%;}#sk-container-id-3 div.sk-parallel-item:last-child::after {align-self: flex-start;width: 50%;}#sk-container-id-3 div.sk-parallel-item:only-child::after {width: 0;}#sk-container-id-3 div.sk-dashed-wrapped {border: 1px dashed gray;margin: 0 0.4em 0.5em 0.4em;box-sizing: border-box;padding-bottom: 0.4em;background-color: white;}#sk-container-id-3 div.sk-label label {font-family: monospace;font-weight: bold;display: inline-block;line-height: 1.2em;}#sk-container-id-3 div.sk-label-container {text-align: center;}#sk-container-id-3 div.sk-container {/* jupyter's `normalize.less` sets `[hidden] { display: none; }` but bootstrap.min.css set `[hidden] { display: none !important; }` so we also need the `!important` here to be able to override the default hidden behavior on the sphinx rendered scikit-learn.org. See: https://github.com/scikit-learn/scikit-learn/issues/21755 */display: inline-block !important;position: relative;}#sk-container-id-3 div.sk-text-repr-fallback {display: none;}</style><div id=\"sk-container-id-3\" class=\"sk-top-container\"><div class=\"sk-text-repr-fallback\"><pre>RandomForestClassifier(random_state=42)</pre><b>In a Jupyter environment, please rerun this cell to show the HTML representation or trust the notebook. <br />On GitHub, the HTML representation is unable to render, please try loading this page with nbviewer.org.</b></div><div class=\"sk-container\" hidden><div class=\"sk-item\"><div class=\"sk-estimator sk-toggleable\"><input class=\"sk-toggleable__control sk-hidden--visually\" id=\"sk-estimator-id-3\" type=\"checkbox\" checked><label for=\"sk-estimator-id-3\" class=\"sk-toggleable__label sk-toggleable__label-arrow\">RandomForestClassifier</label><div class=\"sk-toggleable__content\"><pre>RandomForestClassifier(random_state=42)</pre></div></div></div></div></div>"
            ]
          },
          "metadata": {},
          "execution_count": 147
        }
      ]
    },
    {
      "cell_type": "markdown",
      "source": [
        "Lakukan prediksi pada data uji yang telah di-vektorisasi"
      ],
      "metadata": {
        "id": "VqOwj2hVVqbe"
      }
    },
    {
      "cell_type": "code",
      "source": [
        "y_pred = rf_model.predict(X_test_tfidf)\n"
      ],
      "metadata": {
        "id": "88g4FPeJ56YO"
      },
      "execution_count": null,
      "outputs": []
    },
    {
      "cell_type": "markdown",
      "source": [
        "Evaluasi performa model"
      ],
      "metadata": {
        "id": "d02YJtI7VtsH"
      }
    },
    {
      "cell_type": "code",
      "source": [
        "accuracy = accuracy_score(y_test, y_pred)\n",
        "print(f'Akurasi Model: {accuracy * 100:.2f}%')"
      ],
      "metadata": {
        "colab": {
          "base_uri": "https://localhost:8080/"
        },
        "id": "Lj8IP4Cq56bI",
        "outputId": "21c5699e-c982-4244-c3e7-9b4cc0588da9"
      },
      "execution_count": null,
      "outputs": [
        {
          "output_type": "stream",
          "name": "stdout",
          "text": [
            "Akurasi Model: 71.00%\n"
          ]
        }
      ]
    },
    {
      "cell_type": "markdown",
      "source": [
        "Classification report"
      ],
      "metadata": {
        "id": "HN73J7jnVwpx"
      }
    },
    {
      "cell_type": "code",
      "source": [
        "from sklearn.metrics import classification_report\n",
        "\n",
        "y_pred = rf_model.predict(X_test_tfidf)\n",
        "\n",
        "classification_rep = classification_report(y_test, y_pred)\n",
        "\n",
        "print(\"Classification Report:\\n\", classification_rep)\n"
      ],
      "metadata": {
        "colab": {
          "base_uri": "https://localhost:8080/"
        },
        "id": "LDAIser66C0S",
        "outputId": "d67aa4d2-431e-40c5-e5f6-038d287ae327"
      },
      "execution_count": null,
      "outputs": [
        {
          "output_type": "stream",
          "name": "stdout",
          "text": [
            "Classification Report:\n",
            "               precision    recall  f1-score   support\n",
            "\n",
            "    negative       0.66      0.53      0.59       163\n",
            "     neutral       0.54      0.63      0.58       142\n",
            "    positive       0.82      0.85      0.83       295\n",
            "\n",
            "    accuracy                           0.71       600\n",
            "   macro avg       0.67      0.67      0.67       600\n",
            "weighted avg       0.71      0.71      0.71       600\n",
            "\n"
          ]
        }
      ]
    },
    {
      "cell_type": "markdown",
      "source": [
        "Confusion Matrix"
      ],
      "metadata": {
        "id": "JJHkqnfhV3hu"
      }
    },
    {
      "cell_type": "code",
      "source": [
        "from sklearn.metrics import confusion_matrix\n",
        "import seaborn as sns\n",
        "import matplotlib.pyplot as plt\n",
        "\n",
        "y_pred = rf_model.predict(X_test_tfidf)\n",
        "\n",
        "cm = confusion_matrix(y_test, y_pred)\n",
        "\n",
        "class_labels = ['negative', 'positive', 'neutral']\n",
        "\n",
        "plt.figure(figsize=(8, 6))\n",
        "sns.heatmap(cm, annot=True, fmt='d', cmap='Blues', xticklabels=class_labels, yticklabels=class_labels)\n",
        "plt.title('Confusion Matrix')\n",
        "plt.xlabel('Prediksi')\n",
        "plt.ylabel('Aktual')\n",
        "plt.show()\n"
      ],
      "metadata": {
        "colab": {
          "base_uri": "https://localhost:8080/",
          "height": 564
        },
        "id": "btJrrs6P6ERC",
        "outputId": "26256790-6ae5-44cd-ba40-70ffa3bb998d"
      },
      "execution_count": null,
      "outputs": [
        {
          "output_type": "display_data",
          "data": {
            "text/plain": [
              "<Figure size 800x600 with 2 Axes>"
            ],
            "image/png": "[encoded data removed]"
          },
          "metadata": {}
        }
      ]
    }
  ]
}