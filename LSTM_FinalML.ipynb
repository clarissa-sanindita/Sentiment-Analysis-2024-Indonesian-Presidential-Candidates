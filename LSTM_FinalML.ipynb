{
  "cells": [
    {
      "cell_type": "markdown",
      "source": [
        "Nama Kelompok:\n",
        "1.   Alviatul Nazila (202010370311293)\n",
        "2.   Clarissa Sanindita Reikisyifa (202010370311232)"
      ],
      "metadata": {
        "id": "rW5SClZdOz1l"
      }
    },
    {
      "cell_type": "markdown",
      "source": [
        "#Import Library"
      ],
      "metadata": {
        "id": "vbOPKB_hQq6P"
      }
    },
    {
      "cell_type": "code",
      "execution_count": null,
      "metadata": {
        "id": "AUtPyntOOIW7"
      },
      "outputs": [],
      "source": [
        "import pandas as pd\n",
        "import numpy as np\n",
        "import matplotlib.pyplot as plt\n",
        "\n",
        "from tensorflow.keras.preprocessing.text import Tokenizer\n",
        "from tensorflow.keras.preprocessing.sequence import pad_sequences\n",
        "from tensorflow.keras.utils import to_categorical\n",
        "from tensorflow.keras.models import Sequential\n",
        "from tensorflow.keras.layers import Embedding, LSTM, Dense, SpatialDropout1D\n",
        "from sklearn.model_selection import train_test_split\n",
        "from sklearn.preprocessing import LabelEncoder\n",
        "from sklearn.metrics import classification_report"
      ]
    },
    {
      "cell_type": "markdown",
      "source": [
        "#Load Dataset"
      ],
      "metadata": {
        "id": "jeKmptGSRE5R"
      }
    },
    {
      "cell_type": "code",
      "execution_count": null,
      "metadata": {
        "id": "nc1OTXiZOIW8",
        "outputId": "8430834d-75a2-43c3-edc4-706c3469b2d9"
      },
      "outputs": [
        {
          "data": {
            "text/html": [
              "<div>\n",
              "<style scoped>\n",
              "    .dataframe tbody tr th:only-of-type {\n",
              "        vertical-align: middle;\n",
              "    }\n",
              "\n",
              "    .dataframe tbody tr th {\n",
              "        vertical-align: top;\n",
              "    }\n",
              "\n",
              "    .dataframe thead th {\n",
              "        text-align: right;\n",
              "    }\n",
              "</style>\n",
              "<table border=\"1\" class=\"dataframe\">\n",
              "  <thead>\n",
              "    <tr style=\"text-align: right;\">\n",
              "      <th></th>\n",
              "      <th>emoticon</th>\n",
              "      <th>convert_emoji</th>\n",
              "      <th>translate_emoji</th>\n",
              "      <th>cleaned</th>\n",
              "      <th>tokenize</th>\n",
              "      <th>normalization</th>\n",
              "      <th>stemmed</th>\n",
              "      <th>stopwords_stemmed</th>\n",
              "      <th>text_string_stemmed</th>\n",
              "      <th>label</th>\n",
              "    </tr>\n",
              "  </thead>\n",
              "  <tbody>\n",
              "    <tr>\n",
              "      <th>3001</th>\n",
              "      <td>@kasrulsani9 @Cintada16 @Leonita_Lestari Prof ...</td>\n",
              "      <td>Prof pak Mahfud MD kok di LAWAN grinning_face ...</td>\n",
              "      <td>Prof pak Mahfud MD kok di LAWAN wajah menyerin...</td>\n",
              "      <td>prof pak mahfud md kok di lawan wajah menyerin...</td>\n",
              "      <td>['prof', 'pak', 'mahfud', 'md', 'kok', 'di', '...</td>\n",
              "      <td>['prof', 'pak', 'mahfud', 'md', 'kok', 'di', '...</td>\n",
              "      <td>['prof', 'pak', 'mahfud', 'md', 'kok', 'di', '...</td>\n",
              "      <td>['prof', 'mahfud', 'lawan', 'seringai', 'serin...</td>\n",
              "      <td>prof mahfud lawan seringai seringai bergulingg...</td>\n",
              "      <td>positive</td>\n",
              "    </tr>\n",
              "    <tr>\n",
              "      <th>3002</th>\n",
              "      <td>@Melihat_Indo Alhamdulillah, semakin yakin kem...</td>\n",
              "      <td>Alhamdulillah, semakin yakin kemenangan Ganjar...</td>\n",
              "      <td>Alhamdulillah, semakin yakin kemenangan Ganjar...</td>\n",
              "      <td>alhamdulillah semakin yakin kemenangan ganjar ...</td>\n",
              "      <td>['alhamdulillah', 'semakin', 'yakin', 'kemenan...</td>\n",
              "      <td>['alhamdulillah', 'semakin', 'yakin', 'kemenan...</td>\n",
              "      <td>['alhamdulillah', 'makin', 'yakin', 'menang', ...</td>\n",
              "      <td>['menang', 'ganjar', 'mahfud', 'semangat']</td>\n",
              "      <td>menang ganjar mahfud semangat</td>\n",
              "      <td>positive</td>\n",
              "    </tr>\n",
              "    <tr>\n",
              "      <th>3003</th>\n",
              "      <td>@gus_dibyo Pak Bas sosok yg berkarakter kuat d...</td>\n",
              "      <td>Pak Bas sosok yg berkarakter kuat dan hebat, I...</td>\n",
              "      <td>Pak Bas sosok yg berkarakter kuat dan hebat, I...</td>\n",
              "      <td>pak bas sosok yg berkarakter kuat dan hebat in...</td>\n",
              "      <td>['pak', 'bas', 'sosok', 'yg', 'berkarakter', '...</td>\n",
              "      <td>['pak', 'bas', 'sosok', 'yg', 'berkarakter', '...</td>\n",
              "      <td>['pak', 'bas', 'sosok', 'yg', 'karakter', 'kua...</td>\n",
              "      <td>['sosok', 'karakter', 'kuat', 'hebat', 'insyaa...</td>\n",
              "      <td>sosok karakter kuat hebat insyaallah ganjar ma...</td>\n",
              "      <td>positive</td>\n",
              "    </tr>\n",
              "    <tr>\n",
              "      <th>3004</th>\n",
              "      <td>@Gus_Raharjo Indonesia harus di pimpin oleh or...</td>\n",
              "      <td>Indonesia harus di pimpin oleh orang yg bener2...</td>\n",
              "      <td>Indonesia harus di pimpin oleh orang yg bener2...</td>\n",
              "      <td>indonesia harus di pimpin oleh orang yg bener ...</td>\n",
              "      <td>['indonesia', 'harus', 'di', 'pimpin', 'oleh',...</td>\n",
              "      <td>['indonesia', 'harus', 'di', 'pimpin', 'oleh',...</td>\n",
              "      <td>['indonesia', 'harus', 'di', 'pimpin', 'oleh',...</td>\n",
              "      <td>['indonesia', 'pimpin', 'paham', 'konstitusi',...</td>\n",
              "      <td>indonesia pimpin paham konstitusi ganjar mahfud</td>\n",
              "      <td>positive</td>\n",
              "    </tr>\n",
              "    <tr>\n",
              "      <th>3005</th>\n",
              "      <td>@Leony_aja @ganjarpranowo Gaspol Ganjar-Mahfud...</td>\n",
              "      <td>Gaspol Ganjar-Mahfud</td>\n",
              "      <td>Gaspol Ganjar-Mahfud</td>\n",
              "      <td>gaspol ganjarmahfud</td>\n",
              "      <td>['gaspol', 'ganjarmahfud']</td>\n",
              "      <td>['gaspol', 'ganjarmahfud']</td>\n",
              "      <td>['gaspol', 'ganjarmahfud']</td>\n",
              "      <td>['gaspol', 'ganjarmahfud']</td>\n",
              "      <td>gaspol ganjarmahfud</td>\n",
              "      <td>positive</td>\n",
              "    </tr>\n",
              "  </tbody>\n",
              "</table>\n",
              "</div>"
            ],
            "text/plain": [
              "                                               emoticon  \\\n",
              "3001  @kasrulsani9 @Cintada16 @Leonita_Lestari Prof ...   \n",
              "3002  @Melihat_Indo Alhamdulillah, semakin yakin kem...   \n",
              "3003  @gus_dibyo Pak Bas sosok yg berkarakter kuat d...   \n",
              "3004  @Gus_Raharjo Indonesia harus di pimpin oleh or...   \n",
              "3005  @Leony_aja @ganjarpranowo Gaspol Ganjar-Mahfud...   \n",
              "\n",
              "                                          convert_emoji  \\\n",
              "3001  Prof pak Mahfud MD kok di LAWAN grinning_face ...   \n",
              "3002  Alhamdulillah, semakin yakin kemenangan Ganjar...   \n",
              "3003  Pak Bas sosok yg berkarakter kuat dan hebat, I...   \n",
              "3004  Indonesia harus di pimpin oleh orang yg bener2...   \n",
              "3005                               Gaspol Ganjar-Mahfud   \n",
              "\n",
              "                                        translate_emoji  \\\n",
              "3001  Prof pak Mahfud MD kok di LAWAN wajah menyerin...   \n",
              "3002  Alhamdulillah, semakin yakin kemenangan Ganjar...   \n",
              "3003  Pak Bas sosok yg berkarakter kuat dan hebat, I...   \n",
              "3004  Indonesia harus di pimpin oleh orang yg bener2...   \n",
              "3005                               Gaspol Ganjar-Mahfud   \n",
              "\n",
              "                                                cleaned  \\\n",
              "3001  prof pak mahfud md kok di lawan wajah menyerin...   \n",
              "3002  alhamdulillah semakin yakin kemenangan ganjar ...   \n",
              "3003  pak bas sosok yg berkarakter kuat dan hebat in...   \n",
              "3004  indonesia harus di pimpin oleh orang yg bener ...   \n",
              "3005                                gaspol ganjarmahfud   \n",
              "\n",
              "                                               tokenize  \\\n",
              "3001  ['prof', 'pak', 'mahfud', 'md', 'kok', 'di', '...   \n",
              "3002  ['alhamdulillah', 'semakin', 'yakin', 'kemenan...   \n",
              "3003  ['pak', 'bas', 'sosok', 'yg', 'berkarakter', '...   \n",
              "3004  ['indonesia', 'harus', 'di', 'pimpin', 'oleh',...   \n",
              "3005                         ['gaspol', 'ganjarmahfud']   \n",
              "\n",
              "                                          normalization  \\\n",
              "3001  ['prof', 'pak', 'mahfud', 'md', 'kok', 'di', '...   \n",
              "3002  ['alhamdulillah', 'semakin', 'yakin', 'kemenan...   \n",
              "3003  ['pak', 'bas', 'sosok', 'yg', 'berkarakter', '...   \n",
              "3004  ['indonesia', 'harus', 'di', 'pimpin', 'oleh',...   \n",
              "3005                         ['gaspol', 'ganjarmahfud']   \n",
              "\n",
              "                                                stemmed  \\\n",
              "3001  ['prof', 'pak', 'mahfud', 'md', 'kok', 'di', '...   \n",
              "3002  ['alhamdulillah', 'makin', 'yakin', 'menang', ...   \n",
              "3003  ['pak', 'bas', 'sosok', 'yg', 'karakter', 'kua...   \n",
              "3004  ['indonesia', 'harus', 'di', 'pimpin', 'oleh',...   \n",
              "3005                         ['gaspol', 'ganjarmahfud']   \n",
              "\n",
              "                                      stopwords_stemmed  \\\n",
              "3001  ['prof', 'mahfud', 'lawan', 'seringai', 'serin...   \n",
              "3002         ['menang', 'ganjar', 'mahfud', 'semangat']   \n",
              "3003  ['sosok', 'karakter', 'kuat', 'hebat', 'insyaa...   \n",
              "3004  ['indonesia', 'pimpin', 'paham', 'konstitusi',...   \n",
              "3005                         ['gaspol', 'ganjarmahfud']   \n",
              "\n",
              "                                    text_string_stemmed     label  \n",
              "3001  prof mahfud lawan seringai seringai bergulingg...  positive  \n",
              "3002                      menang ganjar mahfud semangat  positive  \n",
              "3003  sosok karakter kuat hebat insyaallah ganjar ma...  positive  \n",
              "3004    indonesia pimpin paham konstitusi ganjar mahfud  positive  \n",
              "3005                                gaspol ganjarmahfud  positive  "
            ]
          },
          "execution_count": 50,
          "metadata": {},
          "output_type": "execute_result"
        }
      ],
      "source": [
        "url = 'G:\\My Drive\\Batik Project\\GAN\\Icha\\BatikGAN\\ML\\preprocessing\\combine_data_proses.csv'\n",
        "df = pd.read_csv(url)\n",
        "df.tail()"
      ]
    },
    {
      "cell_type": "code",
      "execution_count": null,
      "metadata": {
        "id": "XVC4gqXZOIW9",
        "outputId": "4ae5c547-41d6-4aa0-c353-c5632606887f"
      },
      "outputs": [
        {
          "name": "stdout",
          "output_type": "stream",
          "text": [
            "<class 'pandas.core.frame.DataFrame'>\n",
            "RangeIndex: 3006 entries, 0 to 3005\n",
            "Data columns (total 10 columns):\n",
            " #   Column               Non-Null Count  Dtype \n",
            "---  ------               --------------  ----- \n",
            " 0   emoticon             3006 non-null   object\n",
            " 1   convert_emoji        3004 non-null   object\n",
            " 2   translate_emoji      3004 non-null   object\n",
            " 3   cleaned              3004 non-null   object\n",
            " 4   tokenize             3006 non-null   object\n",
            " 5   normalization        3006 non-null   object\n",
            " 6   stemmed              3006 non-null   object\n",
            " 7   stopwords_stemmed    3006 non-null   object\n",
            " 8   text_string_stemmed  2999 non-null   object\n",
            " 9   label                3006 non-null   object\n",
            "dtypes: object(10)\n",
            "memory usage: 235.0+ KB\n"
          ]
        }
      ],
      "source": [
        "df.info()"
      ]
    },
    {
      "cell_type": "code",
      "execution_count": null,
      "metadata": {
        "id": "C1tdwgiCOIXC",
        "outputId": "bb9e6a0b-2d82-4a08-f623-7aa28d1b5b3e"
      },
      "outputs": [
        {
          "data": {
            "text/html": [
              "<div>\n",
              "<style scoped>\n",
              "    .dataframe tbody tr th:only-of-type {\n",
              "        vertical-align: middle;\n",
              "    }\n",
              "\n",
              "    .dataframe tbody tr th {\n",
              "        vertical-align: top;\n",
              "    }\n",
              "\n",
              "    .dataframe thead th {\n",
              "        text-align: right;\n",
              "    }\n",
              "</style>\n",
              "<table border=\"1\" class=\"dataframe\">\n",
              "  <thead>\n",
              "    <tr style=\"text-align: right;\">\n",
              "      <th></th>\n",
              "      <th>emoticon</th>\n",
              "      <th>convert_emoji</th>\n",
              "      <th>translate_emoji</th>\n",
              "      <th>cleaned</th>\n",
              "      <th>tokenize</th>\n",
              "      <th>normalization</th>\n",
              "      <th>stemmed</th>\n",
              "      <th>stopwords_stemmed</th>\n",
              "      <th>text_string_stemmed</th>\n",
              "      <th>label</th>\n",
              "    </tr>\n",
              "  </thead>\n",
              "  <tbody>\n",
              "    <tr>\n",
              "      <th>count</th>\n",
              "      <td>3006</td>\n",
              "      <td>3004</td>\n",
              "      <td>3004</td>\n",
              "      <td>3004</td>\n",
              "      <td>3006</td>\n",
              "      <td>3006</td>\n",
              "      <td>3006</td>\n",
              "      <td>3006</td>\n",
              "      <td>2999</td>\n",
              "      <td>3006</td>\n",
              "    </tr>\n",
              "    <tr>\n",
              "      <th>unique</th>\n",
              "      <td>2939</td>\n",
              "      <td>2908</td>\n",
              "      <td>2908</td>\n",
              "      <td>2907</td>\n",
              "      <td>2908</td>\n",
              "      <td>2908</td>\n",
              "      <td>2908</td>\n",
              "      <td>2844</td>\n",
              "      <td>2843</td>\n",
              "      <td>3</td>\n",
              "    </tr>\n",
              "    <tr>\n",
              "      <th>top</th>\n",
              "      <td>Sosok Hardjanto yang telah melukis selama 50 t...</td>\n",
              "      <td>Bravo Gus Muhaimin Iskandar untuk Indonesia Ma...</td>\n",
              "      <td>Bravo Gus Muhaimin Iskandar untuk Indonesia Ma...</td>\n",
              "      <td>bravo gus muhaimin iskandar untuk indonesia ma...</td>\n",
              "      <td>['bravo', 'gus', 'muhaimin', 'iskandar', 'untu...</td>\n",
              "      <td>['bravo', 'gus', 'muhaimin', 'iskandar', 'untu...</td>\n",
              "      <td>['bravo', 'gus', 'muhaimin', 'iskandar', 'untu...</td>\n",
              "      <td>['dukung', 'ganjar', 'mahfud']</td>\n",
              "      <td>dukung ganjar mahfud</td>\n",
              "      <td>positive</td>\n",
              "    </tr>\n",
              "    <tr>\n",
              "      <th>freq</th>\n",
              "      <td>4</td>\n",
              "      <td>8</td>\n",
              "      <td>8</td>\n",
              "      <td>8</td>\n",
              "      <td>8</td>\n",
              "      <td>8</td>\n",
              "      <td>8</td>\n",
              "      <td>14</td>\n",
              "      <td>14</td>\n",
              "      <td>1546</td>\n",
              "    </tr>\n",
              "  </tbody>\n",
              "</table>\n",
              "</div>"
            ],
            "text/plain": [
              "                                                 emoticon  \\\n",
              "count                                                3006   \n",
              "unique                                               2939   \n",
              "top     Sosok Hardjanto yang telah melukis selama 50 t...   \n",
              "freq                                                    4   \n",
              "\n",
              "                                            convert_emoji  \\\n",
              "count                                                3004   \n",
              "unique                                               2908   \n",
              "top     Bravo Gus Muhaimin Iskandar untuk Indonesia Ma...   \n",
              "freq                                                    8   \n",
              "\n",
              "                                          translate_emoji  \\\n",
              "count                                                3004   \n",
              "unique                                               2908   \n",
              "top     Bravo Gus Muhaimin Iskandar untuk Indonesia Ma...   \n",
              "freq                                                    8   \n",
              "\n",
              "                                                  cleaned  \\\n",
              "count                                                3004   \n",
              "unique                                               2907   \n",
              "top     bravo gus muhaimin iskandar untuk indonesia ma...   \n",
              "freq                                                    8   \n",
              "\n",
              "                                                 tokenize  \\\n",
              "count                                                3006   \n",
              "unique                                               2908   \n",
              "top     ['bravo', 'gus', 'muhaimin', 'iskandar', 'untu...   \n",
              "freq                                                    8   \n",
              "\n",
              "                                            normalization  \\\n",
              "count                                                3006   \n",
              "unique                                               2908   \n",
              "top     ['bravo', 'gus', 'muhaimin', 'iskandar', 'untu...   \n",
              "freq                                                    8   \n",
              "\n",
              "                                                  stemmed  \\\n",
              "count                                                3006   \n",
              "unique                                               2908   \n",
              "top     ['bravo', 'gus', 'muhaimin', 'iskandar', 'untu...   \n",
              "freq                                                    8   \n",
              "\n",
              "                     stopwords_stemmed   text_string_stemmed     label  \n",
              "count                             3006                  2999      3006  \n",
              "unique                            2844                  2843         3  \n",
              "top     ['dukung', 'ganjar', 'mahfud']  dukung ganjar mahfud  positive  \n",
              "freq                                14                    14      1546  "
            ]
          },
          "execution_count": 52,
          "metadata": {},
          "output_type": "execute_result"
        }
      ],
      "source": [
        "df.describe()"
      ]
    },
    {
      "cell_type": "markdown",
      "metadata": {
        "id": "8pzviz_POIXC"
      },
      "source": [
        "# Processing Data"
      ]
    },
    {
      "cell_type": "code",
      "execution_count": null,
      "metadata": {
        "id": "DXDdUyDLOIXD",
        "outputId": "9ebdfc0c-7777-4b30-9582-4f77a8a76e48"
      },
      "outputs": [
        {
          "data": {
            "text/plain": [
              "emoticon               0\n",
              "convert_emoji          2\n",
              "translate_emoji        2\n",
              "cleaned                2\n",
              "tokenize               0\n",
              "normalization          0\n",
              "stemmed                0\n",
              "stopwords_stemmed      0\n",
              "text_string_stemmed    7\n",
              "label                  0\n",
              "dtype: int64"
            ]
          },
          "execution_count": 53,
          "metadata": {},
          "output_type": "execute_result"
        }
      ],
      "source": [
        "df.isnull().sum()"
      ]
    },
    {
      "cell_type": "code",
      "execution_count": null,
      "metadata": {
        "id": "h1BzysRfOIXD",
        "outputId": "75204b7c-2f8f-4619-9079-ac97192ca9a1"
      },
      "outputs": [
        {
          "data": {
            "text/html": [
              "<div>\n",
              "<style scoped>\n",
              "    .dataframe tbody tr th:only-of-type {\n",
              "        vertical-align: middle;\n",
              "    }\n",
              "\n",
              "    .dataframe tbody tr th {\n",
              "        vertical-align: top;\n",
              "    }\n",
              "\n",
              "    .dataframe thead th {\n",
              "        text-align: right;\n",
              "    }\n",
              "</style>\n",
              "<table border=\"1\" class=\"dataframe\">\n",
              "  <thead>\n",
              "    <tr style=\"text-align: right;\">\n",
              "      <th></th>\n",
              "      <th>emoticon</th>\n",
              "      <th>convert_emoji</th>\n",
              "      <th>translate_emoji</th>\n",
              "      <th>cleaned</th>\n",
              "      <th>tokenize</th>\n",
              "      <th>normalization</th>\n",
              "      <th>stemmed</th>\n",
              "      <th>stopwords_stemmed</th>\n",
              "      <th>text_string_stemmed</th>\n",
              "      <th>label</th>\n",
              "    </tr>\n",
              "  </thead>\n",
              "  <tbody>\n",
              "    <tr>\n",
              "      <th>0</th>\n",
              "      <td>@DPP_PKB @cakimiNOW Cak Imin sangat berkarisma...</td>\n",
              "      <td>Cak Imin sangat berkarismatik ....memang cocok...</td>\n",
              "      <td>Cak Imin sangat berkarismatik ....memang cocok...</td>\n",
              "      <td>cak imin sangat berkarismatik memang cocok men...</td>\n",
              "      <td>['cak', 'imin', 'sangat', 'berkarismatik', 'me...</td>\n",
              "      <td>['cak', 'imin', 'sangat', 'berkarismatik', 'me...</td>\n",
              "      <td>['cak', 'imin', 'sangat', 'karismatik', 'meman...</td>\n",
              "      <td>['cak', 'imin', 'karismatik', 'cocok', 'dampin...</td>\n",
              "      <td>cak imin karismatik cocok damping anis</td>\n",
              "      <td>positive</td>\n",
              "    </tr>\n",
              "    <tr>\n",
              "      <th>1</th>\n",
              "      <td>@Adiprayitno_20 lho...lho gak bahaya tah kalau...</td>\n",
              "      <td>lho...lho gak bahaya tah kalau cawapres juga d...</td>\n",
              "      <td>lho...lho gak bahaya tah kalau cawapres juga d...</td>\n",
              "      <td>lholho gak bahaya tah kalau cawapres juga diun...</td>\n",
              "      <td>['lholho', 'gak', 'bahaya', 'tah', 'kalau', 'c...</td>\n",
              "      <td>['lholho', 'gak', 'bahaya', 'tah', 'kalau', 'c...</td>\n",
              "      <td>['lholho', 'gak', 'bahaya', 'tah', 'kalau', 'c...</td>\n",
              "      <td>['lholho', 'gak', 'bahaya', 'cawapres', 'undan...</td>\n",
              "      <td>lholho gak bahaya cawapres undang makan siang</td>\n",
              "      <td>negative</td>\n",
              "    </tr>\n",
              "    <tr>\n",
              "      <th>2</th>\n",
              "      <td>@FandiFrezian @sasbudiarjo @kikysaputrii Karna...</td>\n",
              "      <td>Karna posisinya pak Anis masih jadi Gubernur D...</td>\n",
              "      <td>Karna posisinya pak Anis masih jadi Gubernur D...</td>\n",
              "      <td>karna posisinya pak anis masih jadi gubernur d...</td>\n",
              "      <td>['karna', 'posisinya', 'pak', 'anis', 'masih',...</td>\n",
              "      <td>['karena', 'posisinya', 'pak', 'anis', 'masih'...</td>\n",
              "      <td>['karena', 'posisi', 'pak', 'anis', 'masih', '...</td>\n",
              "      <td>['anis', 'gubernur', 'dki', 'cak', 'imin', 'da...</td>\n",
              "      <td>anis gubernur dki cak imin dateng lapor cawapr...</td>\n",
              "      <td>positive</td>\n",
              "    </tr>\n",
              "    <tr>\n",
              "      <th>3</th>\n",
              "      <td>Cak Imin Tak Khawatir Yenny Dukung Ganjar-Mahf...</td>\n",
              "      <td>Cak Imin Tak Khawatir Yenny Dukung Ganjar-Mahf...</td>\n",
              "      <td>Cak Imin Tak Khawatir Yenny Dukung Ganjar-Mahf...</td>\n",
              "      <td>cak imin tak khawatir yenny dukung ganjarmahfu...</td>\n",
              "      <td>['cak', 'imin', 'tak', 'khawatir', 'yenny', 'd...</td>\n",
              "      <td>['cak', 'imin', 'tak', 'khawatir', 'yenny', 'd...</td>\n",
              "      <td>['cak', 'imin', 'tak', 'khawatir', 'yenny', 'd...</td>\n",
              "      <td>['cak', 'imin', 'khawatir', 'yenny', 'dukung',...</td>\n",
              "      <td>cak imin khawatir yenny dukung ganjarmahfud su...</td>\n",
              "      <td>neutral</td>\n",
              "    </tr>\n",
              "    <tr>\n",
              "      <th>4</th>\n",
              "      <td>Susi Pudjiastuti Dikabarkan Masuk Calon Kapten...</td>\n",
              "      <td>Susi Pudjiastuti Dikabarkan Masuk Calon Kapten...</td>\n",
              "      <td>Susi Pudjiastuti Dikabarkan Masuk Calon Kapten...</td>\n",
              "      <td>susi pudjiastuti dikabarkan masuk calon kapten...</td>\n",
              "      <td>['susi', 'pudjiastuti', 'dikabarkan', 'masuk',...</td>\n",
              "      <td>['susi', 'pudjiastuti', 'dikabarkan', 'masuk',...</td>\n",
              "      <td>['sus', 'pudjiastuti', 'kabar', 'masuk', 'calo...</td>\n",
              "      <td>['sus', 'pudjiastuti', 'kabar', 'calon', 'kapt...</td>\n",
              "      <td>sus pudjiastuti kabar calon kapten timnas mena...</td>\n",
              "      <td>positive</td>\n",
              "    </tr>\n",
              "    <tr>\n",
              "      <th>...</th>\n",
              "      <td>...</td>\n",
              "      <td>...</td>\n",
              "      <td>...</td>\n",
              "      <td>...</td>\n",
              "      <td>...</td>\n",
              "      <td>...</td>\n",
              "      <td>...</td>\n",
              "      <td>...</td>\n",
              "      <td>...</td>\n",
              "      <td>...</td>\n",
              "    </tr>\n",
              "    <tr>\n",
              "      <th>3001</th>\n",
              "      <td>@kasrulsani9 @Cintada16 @Leonita_Lestari Prof ...</td>\n",
              "      <td>Prof pak Mahfud MD kok di LAWAN grinning_face ...</td>\n",
              "      <td>Prof pak Mahfud MD kok di LAWAN wajah menyerin...</td>\n",
              "      <td>prof pak mahfud md kok di lawan wajah menyerin...</td>\n",
              "      <td>['prof', 'pak', 'mahfud', 'md', 'kok', 'di', '...</td>\n",
              "      <td>['prof', 'pak', 'mahfud', 'md', 'kok', 'di', '...</td>\n",
              "      <td>['prof', 'pak', 'mahfud', 'md', 'kok', 'di', '...</td>\n",
              "      <td>['prof', 'mahfud', 'lawan', 'seringai', 'serin...</td>\n",
              "      <td>prof mahfud lawan seringai seringai bergulingg...</td>\n",
              "      <td>positive</td>\n",
              "    </tr>\n",
              "    <tr>\n",
              "      <th>3002</th>\n",
              "      <td>@Melihat_Indo Alhamdulillah, semakin yakin kem...</td>\n",
              "      <td>Alhamdulillah, semakin yakin kemenangan Ganjar...</td>\n",
              "      <td>Alhamdulillah, semakin yakin kemenangan Ganjar...</td>\n",
              "      <td>alhamdulillah semakin yakin kemenangan ganjar ...</td>\n",
              "      <td>['alhamdulillah', 'semakin', 'yakin', 'kemenan...</td>\n",
              "      <td>['alhamdulillah', 'semakin', 'yakin', 'kemenan...</td>\n",
              "      <td>['alhamdulillah', 'makin', 'yakin', 'menang', ...</td>\n",
              "      <td>['menang', 'ganjar', 'mahfud', 'semangat']</td>\n",
              "      <td>menang ganjar mahfud semangat</td>\n",
              "      <td>positive</td>\n",
              "    </tr>\n",
              "    <tr>\n",
              "      <th>3003</th>\n",
              "      <td>@gus_dibyo Pak Bas sosok yg berkarakter kuat d...</td>\n",
              "      <td>Pak Bas sosok yg berkarakter kuat dan hebat, I...</td>\n",
              "      <td>Pak Bas sosok yg berkarakter kuat dan hebat, I...</td>\n",
              "      <td>pak bas sosok yg berkarakter kuat dan hebat in...</td>\n",
              "      <td>['pak', 'bas', 'sosok', 'yg', 'berkarakter', '...</td>\n",
              "      <td>['pak', 'bas', 'sosok', 'yg', 'berkarakter', '...</td>\n",
              "      <td>['pak', 'bas', 'sosok', 'yg', 'karakter', 'kua...</td>\n",
              "      <td>['sosok', 'karakter', 'kuat', 'hebat', 'insyaa...</td>\n",
              "      <td>sosok karakter kuat hebat insyaallah ganjar ma...</td>\n",
              "      <td>positive</td>\n",
              "    </tr>\n",
              "    <tr>\n",
              "      <th>3004</th>\n",
              "      <td>@Gus_Raharjo Indonesia harus di pimpin oleh or...</td>\n",
              "      <td>Indonesia harus di pimpin oleh orang yg bener2...</td>\n",
              "      <td>Indonesia harus di pimpin oleh orang yg bener2...</td>\n",
              "      <td>indonesia harus di pimpin oleh orang yg bener ...</td>\n",
              "      <td>['indonesia', 'harus', 'di', 'pimpin', 'oleh',...</td>\n",
              "      <td>['indonesia', 'harus', 'di', 'pimpin', 'oleh',...</td>\n",
              "      <td>['indonesia', 'harus', 'di', 'pimpin', 'oleh',...</td>\n",
              "      <td>['indonesia', 'pimpin', 'paham', 'konstitusi',...</td>\n",
              "      <td>indonesia pimpin paham konstitusi ganjar mahfud</td>\n",
              "      <td>positive</td>\n",
              "    </tr>\n",
              "    <tr>\n",
              "      <th>3005</th>\n",
              "      <td>@Leony_aja @ganjarpranowo Gaspol Ganjar-Mahfud...</td>\n",
              "      <td>Gaspol Ganjar-Mahfud</td>\n",
              "      <td>Gaspol Ganjar-Mahfud</td>\n",
              "      <td>gaspol ganjarmahfud</td>\n",
              "      <td>['gaspol', 'ganjarmahfud']</td>\n",
              "      <td>['gaspol', 'ganjarmahfud']</td>\n",
              "      <td>['gaspol', 'ganjarmahfud']</td>\n",
              "      <td>['gaspol', 'ganjarmahfud']</td>\n",
              "      <td>gaspol ganjarmahfud</td>\n",
              "      <td>positive</td>\n",
              "    </tr>\n",
              "  </tbody>\n",
              "</table>\n",
              "<p>2999 rows × 10 columns</p>\n",
              "</div>"
            ],
            "text/plain": [
              "                                               emoticon  \\\n",
              "0     @DPP_PKB @cakimiNOW Cak Imin sangat berkarisma...   \n",
              "1     @Adiprayitno_20 lho...lho gak bahaya tah kalau...   \n",
              "2     @FandiFrezian @sasbudiarjo @kikysaputrii Karna...   \n",
              "3     Cak Imin Tak Khawatir Yenny Dukung Ganjar-Mahf...   \n",
              "4     Susi Pudjiastuti Dikabarkan Masuk Calon Kapten...   \n",
              "...                                                 ...   \n",
              "3001  @kasrulsani9 @Cintada16 @Leonita_Lestari Prof ...   \n",
              "3002  @Melihat_Indo Alhamdulillah, semakin yakin kem...   \n",
              "3003  @gus_dibyo Pak Bas sosok yg berkarakter kuat d...   \n",
              "3004  @Gus_Raharjo Indonesia harus di pimpin oleh or...   \n",
              "3005  @Leony_aja @ganjarpranowo Gaspol Ganjar-Mahfud...   \n",
              "\n",
              "                                          convert_emoji  \\\n",
              "0     Cak Imin sangat berkarismatik ....memang cocok...   \n",
              "1     lho...lho gak bahaya tah kalau cawapres juga d...   \n",
              "2     Karna posisinya pak Anis masih jadi Gubernur D...   \n",
              "3     Cak Imin Tak Khawatir Yenny Dukung Ganjar-Mahf...   \n",
              "4     Susi Pudjiastuti Dikabarkan Masuk Calon Kapten...   \n",
              "...                                                 ...   \n",
              "3001  Prof pak Mahfud MD kok di LAWAN grinning_face ...   \n",
              "3002  Alhamdulillah, semakin yakin kemenangan Ganjar...   \n",
              "3003  Pak Bas sosok yg berkarakter kuat dan hebat, I...   \n",
              "3004  Indonesia harus di pimpin oleh orang yg bener2...   \n",
              "3005                               Gaspol Ganjar-Mahfud   \n",
              "\n",
              "                                        translate_emoji  \\\n",
              "0     Cak Imin sangat berkarismatik ....memang cocok...   \n",
              "1     lho...lho gak bahaya tah kalau cawapres juga d...   \n",
              "2     Karna posisinya pak Anis masih jadi Gubernur D...   \n",
              "3     Cak Imin Tak Khawatir Yenny Dukung Ganjar-Mahf...   \n",
              "4     Susi Pudjiastuti Dikabarkan Masuk Calon Kapten...   \n",
              "...                                                 ...   \n",
              "3001  Prof pak Mahfud MD kok di LAWAN wajah menyerin...   \n",
              "3002  Alhamdulillah, semakin yakin kemenangan Ganjar...   \n",
              "3003  Pak Bas sosok yg berkarakter kuat dan hebat, I...   \n",
              "3004  Indonesia harus di pimpin oleh orang yg bener2...   \n",
              "3005                               Gaspol Ganjar-Mahfud   \n",
              "\n",
              "                                                cleaned  \\\n",
              "0     cak imin sangat berkarismatik memang cocok men...   \n",
              "1     lholho gak bahaya tah kalau cawapres juga diun...   \n",
              "2     karna posisinya pak anis masih jadi gubernur d...   \n",
              "3     cak imin tak khawatir yenny dukung ganjarmahfu...   \n",
              "4     susi pudjiastuti dikabarkan masuk calon kapten...   \n",
              "...                                                 ...   \n",
              "3001  prof pak mahfud md kok di lawan wajah menyerin...   \n",
              "3002  alhamdulillah semakin yakin kemenangan ganjar ...   \n",
              "3003  pak bas sosok yg berkarakter kuat dan hebat in...   \n",
              "3004  indonesia harus di pimpin oleh orang yg bener ...   \n",
              "3005                                gaspol ganjarmahfud   \n",
              "\n",
              "                                               tokenize  \\\n",
              "0     ['cak', 'imin', 'sangat', 'berkarismatik', 'me...   \n",
              "1     ['lholho', 'gak', 'bahaya', 'tah', 'kalau', 'c...   \n",
              "2     ['karna', 'posisinya', 'pak', 'anis', 'masih',...   \n",
              "3     ['cak', 'imin', 'tak', 'khawatir', 'yenny', 'd...   \n",
              "4     ['susi', 'pudjiastuti', 'dikabarkan', 'masuk',...   \n",
              "...                                                 ...   \n",
              "3001  ['prof', 'pak', 'mahfud', 'md', 'kok', 'di', '...   \n",
              "3002  ['alhamdulillah', 'semakin', 'yakin', 'kemenan...   \n",
              "3003  ['pak', 'bas', 'sosok', 'yg', 'berkarakter', '...   \n",
              "3004  ['indonesia', 'harus', 'di', 'pimpin', 'oleh',...   \n",
              "3005                         ['gaspol', 'ganjarmahfud']   \n",
              "\n",
              "                                          normalization  \\\n",
              "0     ['cak', 'imin', 'sangat', 'berkarismatik', 'me...   \n",
              "1     ['lholho', 'gak', 'bahaya', 'tah', 'kalau', 'c...   \n",
              "2     ['karena', 'posisinya', 'pak', 'anis', 'masih'...   \n",
              "3     ['cak', 'imin', 'tak', 'khawatir', 'yenny', 'd...   \n",
              "4     ['susi', 'pudjiastuti', 'dikabarkan', 'masuk',...   \n",
              "...                                                 ...   \n",
              "3001  ['prof', 'pak', 'mahfud', 'md', 'kok', 'di', '...   \n",
              "3002  ['alhamdulillah', 'semakin', 'yakin', 'kemenan...   \n",
              "3003  ['pak', 'bas', 'sosok', 'yg', 'berkarakter', '...   \n",
              "3004  ['indonesia', 'harus', 'di', 'pimpin', 'oleh',...   \n",
              "3005                         ['gaspol', 'ganjarmahfud']   \n",
              "\n",
              "                                                stemmed  \\\n",
              "0     ['cak', 'imin', 'sangat', 'karismatik', 'meman...   \n",
              "1     ['lholho', 'gak', 'bahaya', 'tah', 'kalau', 'c...   \n",
              "2     ['karena', 'posisi', 'pak', 'anis', 'masih', '...   \n",
              "3     ['cak', 'imin', 'tak', 'khawatir', 'yenny', 'd...   \n",
              "4     ['sus', 'pudjiastuti', 'kabar', 'masuk', 'calo...   \n",
              "...                                                 ...   \n",
              "3001  ['prof', 'pak', 'mahfud', 'md', 'kok', 'di', '...   \n",
              "3002  ['alhamdulillah', 'makin', 'yakin', 'menang', ...   \n",
              "3003  ['pak', 'bas', 'sosok', 'yg', 'karakter', 'kua...   \n",
              "3004  ['indonesia', 'harus', 'di', 'pimpin', 'oleh',...   \n",
              "3005                         ['gaspol', 'ganjarmahfud']   \n",
              "\n",
              "                                      stopwords_stemmed  \\\n",
              "0     ['cak', 'imin', 'karismatik', 'cocok', 'dampin...   \n",
              "1     ['lholho', 'gak', 'bahaya', 'cawapres', 'undan...   \n",
              "2     ['anis', 'gubernur', 'dki', 'cak', 'imin', 'da...   \n",
              "3     ['cak', 'imin', 'khawatir', 'yenny', 'dukung',...   \n",
              "4     ['sus', 'pudjiastuti', 'kabar', 'calon', 'kapt...   \n",
              "...                                                 ...   \n",
              "3001  ['prof', 'mahfud', 'lawan', 'seringai', 'serin...   \n",
              "3002         ['menang', 'ganjar', 'mahfud', 'semangat']   \n",
              "3003  ['sosok', 'karakter', 'kuat', 'hebat', 'insyaa...   \n",
              "3004  ['indonesia', 'pimpin', 'paham', 'konstitusi',...   \n",
              "3005                         ['gaspol', 'ganjarmahfud']   \n",
              "\n",
              "                                    text_string_stemmed     label  \n",
              "0                cak imin karismatik cocok damping anis  positive  \n",
              "1         lholho gak bahaya cawapres undang makan siang  negative  \n",
              "2     anis gubernur dki cak imin dateng lapor cawapr...  positive  \n",
              "3     cak imin khawatir yenny dukung ganjarmahfud su...   neutral  \n",
              "4     sus pudjiastuti kabar calon kapten timnas mena...  positive  \n",
              "...                                                 ...       ...  \n",
              "3001  prof mahfud lawan seringai seringai bergulingg...  positive  \n",
              "3002                      menang ganjar mahfud semangat  positive  \n",
              "3003  sosok karakter kuat hebat insyaallah ganjar ma...  positive  \n",
              "3004    indonesia pimpin paham konstitusi ganjar mahfud  positive  \n",
              "3005                                gaspol ganjarmahfud  positive  \n",
              "\n",
              "[2999 rows x 10 columns]"
            ]
          },
          "execution_count": 54,
          "metadata": {},
          "output_type": "execute_result"
        }
      ],
      "source": [
        "df.dropna(subset=['text_string_stemmed'], inplace=True)\n",
        "df"
      ]
    },
    {
      "cell_type": "code",
      "execution_count": null,
      "metadata": {
        "id": "XacCRLZFOIXD",
        "outputId": "b8658e78-a15e-4384-edad-1c83eb08c64e"
      },
      "outputs": [
        {
          "data": {
            "text/plain": [
              "50"
            ]
          },
          "execution_count": 55,
          "metadata": {},
          "output_type": "execute_result"
        }
      ],
      "source": [
        "df.duplicated().sum()"
      ]
    },
    {
      "cell_type": "code",
      "execution_count": null,
      "metadata": {
        "id": "z-pkstAnOIXD"
      },
      "outputs": [],
      "source": [
        "df = df.drop_duplicates()"
      ]
    },
    {
      "cell_type": "code",
      "execution_count": null,
      "metadata": {
        "id": "4NWaFH_nOIXE",
        "outputId": "d56e6c73-93ef-4ab7-bce7-d341df9939cf"
      },
      "outputs": [
        {
          "name": "stdout",
          "output_type": "stream",
          "text": [
            "['positive' 'negative' 'neutral']\n"
          ]
        }
      ],
      "source": [
        "unique_labels = df['label'].unique()\n",
        "print(unique_labels)"
      ]
    },
    {
      "cell_type": "code",
      "execution_count": null,
      "metadata": {
        "id": "WAlsuamXOIXF"
      },
      "outputs": [],
      "source": [
        "MAX_NB_WORDS = 50000\n",
        "MAX_SEQUENCE_LENGTH = 250\n",
        "EMBEDDING_DIM = 100"
      ]
    },
    {
      "cell_type": "code",
      "execution_count": null,
      "metadata": {
        "id": "Qbl5e26YOIXF"
      },
      "outputs": [],
      "source": [
        "tokenizer = Tokenizer(num_words=MAX_NB_WORDS, filters='!\"#$%&()*+,-./:;<=>?@[\\]^_`{|}~', lower=True)\n",
        "tokenizer.fit_on_texts(df['text_string_stemmed'].values)\n",
        "word_index = tokenizer.word_index"
      ]
    },
    {
      "cell_type": "code",
      "execution_count": null,
      "metadata": {
        "id": "QD3XsKASOIXG"
      },
      "outputs": [],
      "source": [
        "X = tokenizer.texts_to_sequences(df['text_string_stemmed'].values)\n",
        "X = pad_sequences(X, maxlen=MAX_SEQUENCE_LENGTH)"
      ]
    },
    {
      "cell_type": "markdown",
      "source": [
        "# Spliting Dataset"
      ],
      "metadata": {
        "id": "Ai-fCo6sR124"
      }
    },
    {
      "cell_type": "markdown",
      "source": [
        "Spliting Feature & Label"
      ],
      "metadata": {
        "id": "8qLRoON2R-g0"
      }
    },
    {
      "cell_type": "code",
      "execution_count": null,
      "metadata": {
        "id": "EWyWQEb4OIXH"
      },
      "outputs": [],
      "source": [
        "label_encoder = LabelEncoder()\n",
        "integer_encoded = label_encoder.fit_transform(df['label'].values)\n",
        "Y = to_categorical(integer_encoded)"
      ]
    },
    {
      "cell_type": "markdown",
      "source": [
        "Spliting Data Train and Data Test"
      ],
      "metadata": {
        "id": "us1eJMCwR_q4"
      }
    },
    {
      "cell_type": "code",
      "execution_count": null,
      "metadata": {
        "id": "F0ilLMRVOIXH"
      },
      "outputs": [],
      "source": [
        "X_train, X_test, Y_train, Y_test = train_test_split(X, Y, test_size=0.30, random_state=42)"
      ]
    },
    {
      "cell_type": "markdown",
      "source": [
        "#Model LSTM"
      ],
      "metadata": {
        "id": "MroxuHHlSEZL"
      }
    },
    {
      "cell_type": "code",
      "execution_count": null,
      "metadata": {
        "id": "ge2JdlviOIXH",
        "outputId": "8bd2b079-898f-4cda-8b7d-0dbc272d94b6"
      },
      "outputs": [
        {
          "name": "stdout",
          "output_type": "stream",
          "text": [
            "WARNING:tensorflow:Layer lstm_2 will not use cuDNN kernels since it doesn't meet the criteria. It will use a generic GPU kernel as fallback when running on GPU.\n"
          ]
        }
      ],
      "source": [
        "model = Sequential()\n",
        "model.add(Embedding(MAX_NB_WORDS, EMBEDDING_DIM, input_length=MAX_SEQUENCE_LENGTH))\n",
        "model.add(SpatialDropout1D(0.2))\n",
        "model.add(LSTM(100, dropout=0.2, recurrent_dropout=0.2))\n",
        "model.add(Dense(Y.shape[1], activation='softmax'))\n"
      ]
    },
    {
      "cell_type": "markdown",
      "source": [
        "#Compiling the Model"
      ],
      "metadata": {
        "id": "CWqjDJDFSvSV"
      }
    },
    {
      "cell_type": "code",
      "execution_count": null,
      "metadata": {
        "id": "Tc3NbaljOIXH"
      },
      "outputs": [],
      "source": [
        "model.compile(loss='categorical_crossentropy', optimizer='adam', metrics=['accuracy'])"
      ]
    },
    {
      "cell_type": "markdown",
      "source": [
        "#Training the Model"
      ],
      "metadata": {
        "id": "pc00Q0F3Sw2g"
      }
    },
    {
      "cell_type": "code",
      "execution_count": null,
      "metadata": {
        "id": "v0eAxf0hOIXH",
        "outputId": "9450f702-baa9-4451-ab57-edd8288fbf1b"
      },
      "outputs": [
        {
          "name": "stdout",
          "output_type": "stream",
          "text": [
            "Epoch 1/100\n",
            "30/30 [==============================] - 32s 998ms/step - loss: 1.0015 - accuracy: 0.5127 - val_loss: 0.9201 - val_accuracy: 0.5314\n",
            "Epoch 2/100\n",
            "30/30 [==============================] - 29s 973ms/step - loss: 0.7934 - accuracy: 0.6230 - val_loss: 0.6676 - val_accuracy: 0.7198\n",
            "Epoch 3/100\n",
            "30/30 [==============================] - 29s 962ms/step - loss: 0.6135 - accuracy: 0.7480 - val_loss: 0.6217 - val_accuracy: 0.7101\n",
            "Epoch 4/100\n",
            "30/30 [==============================] - 29s 969ms/step - loss: 0.5099 - accuracy: 0.7781 - val_loss: 0.6157 - val_accuracy: 0.7488\n",
            "Epoch 5/100\n",
            "30/30 [==============================] - 30s 991ms/step - loss: 0.4036 - accuracy: 0.8481 - val_loss: 0.5932 - val_accuracy: 0.7536\n",
            "Epoch 6/100\n",
            "30/30 [==============================] - 28s 927ms/step - loss: 0.2962 - accuracy: 0.9020 - val_loss: 0.6214 - val_accuracy: 0.7536\n",
            "Epoch 7/100\n",
            "30/30 [==============================] - 28s 954ms/step - loss: 0.1947 - accuracy: 0.9456 - val_loss: 0.7175 - val_accuracy: 0.7150\n",
            "Epoch 8/100\n",
            "30/30 [==============================] - 29s 973ms/step - loss: 0.1473 - accuracy: 0.9548 - val_loss: 0.7464 - val_accuracy: 0.7198\n",
            "Epoch 9/100\n",
            "30/30 [==============================] - 30s 993ms/step - loss: 0.1123 - accuracy: 0.9672 - val_loss: 0.8499 - val_accuracy: 0.7150\n",
            "Epoch 10/100\n",
            "30/30 [==============================] - 30s 989ms/step - loss: 0.0853 - accuracy: 0.9774 - val_loss: 0.8206 - val_accuracy: 0.7198\n",
            "Epoch 11/100\n",
            "30/30 [==============================] - 29s 975ms/step - loss: 0.0728 - accuracy: 0.9752 - val_loss: 0.9076 - val_accuracy: 0.7150\n",
            "Epoch 12/100\n",
            "30/30 [==============================] - 30s 992ms/step - loss: 0.0693 - accuracy: 0.9768 - val_loss: 1.0079 - val_accuracy: 0.7150\n",
            "Epoch 13/100\n",
            "30/30 [==============================] - 29s 975ms/step - loss: 0.0633 - accuracy: 0.9812 - val_loss: 0.9955 - val_accuracy: 0.7053\n",
            "Epoch 14/100\n",
            "30/30 [==============================] - 30s 1s/step - loss: 0.0511 - accuracy: 0.9822 - val_loss: 1.0383 - val_accuracy: 0.6860\n",
            "Epoch 15/100\n",
            "30/30 [==============================] - 30s 1s/step - loss: 0.0422 - accuracy: 0.9849 - val_loss: 1.1150 - val_accuracy: 0.6908\n",
            "Epoch 16/100\n",
            "30/30 [==============================] - 28s 953ms/step - loss: 0.0411 - accuracy: 0.9865 - val_loss: 1.1741 - val_accuracy: 0.6667\n",
            "Epoch 17/100\n",
            "30/30 [==============================] - 29s 953ms/step - loss: 0.0492 - accuracy: 0.9822 - val_loss: 1.1269 - val_accuracy: 0.6908\n",
            "Epoch 18/100\n",
            "30/30 [==============================] - 29s 961ms/step - loss: 0.0367 - accuracy: 0.9855 - val_loss: 1.1860 - val_accuracy: 0.6957\n",
            "Epoch 19/100\n",
            "30/30 [==============================] - 29s 988ms/step - loss: 0.0380 - accuracy: 0.9887 - val_loss: 1.1392 - val_accuracy: 0.6908\n",
            "Epoch 20/100\n",
            "30/30 [==============================] - 28s 939ms/step - loss: 0.0368 - accuracy: 0.9871 - val_loss: 1.2325 - val_accuracy: 0.7005\n",
            "Epoch 21/100\n",
            "30/30 [==============================] - 30s 993ms/step - loss: 0.0367 - accuracy: 0.9855 - val_loss: 1.1282 - val_accuracy: 0.7053\n",
            "Epoch 22/100\n",
            "30/30 [==============================] - 29s 964ms/step - loss: 0.0324 - accuracy: 0.9887 - val_loss: 1.2260 - val_accuracy: 0.7005\n",
            "Epoch 23/100\n",
            "30/30 [==============================] - 28s 954ms/step - loss: 0.0328 - accuracy: 0.9876 - val_loss: 1.2962 - val_accuracy: 0.6812\n",
            "Epoch 24/100\n",
            "30/30 [==============================] - 30s 1s/step - loss: 0.0308 - accuracy: 0.9871 - val_loss: 1.2596 - val_accuracy: 0.6908\n",
            "Epoch 25/100\n",
            "30/30 [==============================] - 29s 964ms/step - loss: 0.0224 - accuracy: 0.9903 - val_loss: 1.4380 - val_accuracy: 0.6908\n",
            "Epoch 26/100\n",
            "30/30 [==============================] - 29s 986ms/step - loss: 0.0293 - accuracy: 0.9892 - val_loss: 1.3103 - val_accuracy: 0.6860\n",
            "Epoch 27/100\n",
            "30/30 [==============================] - 29s 977ms/step - loss: 0.0259 - accuracy: 0.9908 - val_loss: 1.3468 - val_accuracy: 0.6860\n",
            "Epoch 28/100\n",
            "30/30 [==============================] - 28s 938ms/step - loss: 0.0263 - accuracy: 0.9898 - val_loss: 1.3145 - val_accuracy: 0.6715\n",
            "Epoch 29/100\n",
            "30/30 [==============================] - 29s 975ms/step - loss: 0.0283 - accuracy: 0.9871 - val_loss: 1.4455 - val_accuracy: 0.6715\n",
            "Epoch 30/100\n",
            "30/30 [==============================] - 30s 997ms/step - loss: 0.0243 - accuracy: 0.9919 - val_loss: 1.3472 - val_accuracy: 0.6763\n",
            "Epoch 31/100\n",
            "30/30 [==============================] - 30s 1s/step - loss: 0.0248 - accuracy: 0.9903 - val_loss: 1.5919 - val_accuracy: 0.6812\n",
            "Epoch 32/100\n",
            "30/30 [==============================] - 29s 957ms/step - loss: 0.0344 - accuracy: 0.9871 - val_loss: 1.3647 - val_accuracy: 0.6957\n",
            "Epoch 33/100\n",
            "30/30 [==============================] - 30s 986ms/step - loss: 0.0225 - accuracy: 0.9908 - val_loss: 1.4437 - val_accuracy: 0.6812\n",
            "Epoch 34/100\n",
            "30/30 [==============================] - 30s 991ms/step - loss: 0.0251 - accuracy: 0.9898 - val_loss: 1.3547 - val_accuracy: 0.6812\n",
            "Epoch 35/100\n",
            "30/30 [==============================] - 30s 1s/step - loss: 0.0239 - accuracy: 0.9892 - val_loss: 1.4997 - val_accuracy: 0.6812\n",
            "Epoch 36/100\n",
            "30/30 [==============================] - 30s 999ms/step - loss: 0.0279 - accuracy: 0.9865 - val_loss: 1.4721 - val_accuracy: 0.6232\n",
            "Epoch 37/100\n",
            "30/30 [==============================] - 29s 969ms/step - loss: 0.0257 - accuracy: 0.9876 - val_loss: 1.5534 - val_accuracy: 0.6763\n",
            "Epoch 38/100\n",
            "30/30 [==============================] - 29s 970ms/step - loss: 0.0229 - accuracy: 0.9903 - val_loss: 1.5997 - val_accuracy: 0.6860\n",
            "Epoch 39/100\n",
            "30/30 [==============================] - 29s 975ms/step - loss: 0.0251 - accuracy: 0.9882 - val_loss: 1.5181 - val_accuracy: 0.6763\n",
            "Epoch 40/100\n",
            "30/30 [==============================] - 29s 964ms/step - loss: 0.0223 - accuracy: 0.9882 - val_loss: 1.6978 - val_accuracy: 0.6667\n",
            "Epoch 41/100\n",
            "30/30 [==============================] - 30s 981ms/step - loss: 0.0306 - accuracy: 0.9876 - val_loss: 1.3717 - val_accuracy: 0.6618\n",
            "Epoch 42/100\n",
            "30/30 [==============================] - 29s 961ms/step - loss: 0.0309 - accuracy: 0.9898 - val_loss: 1.6050 - val_accuracy: 0.6473\n",
            "Epoch 43/100\n",
            "30/30 [==============================] - 29s 966ms/step - loss: 0.0267 - accuracy: 0.9887 - val_loss: 1.5390 - val_accuracy: 0.6618\n",
            "Epoch 44/100\n",
            "30/30 [==============================] - 30s 985ms/step - loss: 0.0226 - accuracy: 0.9887 - val_loss: 1.4720 - val_accuracy: 0.6763\n",
            "Epoch 45/100\n",
            "30/30 [==============================] - 29s 986ms/step - loss: 0.0226 - accuracy: 0.9882 - val_loss: 1.5937 - val_accuracy: 0.6715\n",
            "Epoch 46/100\n",
            "30/30 [==============================] - 29s 986ms/step - loss: 0.0241 - accuracy: 0.9914 - val_loss: 1.5666 - val_accuracy: 0.6715\n",
            "Epoch 47/100\n",
            "30/30 [==============================] - 29s 971ms/step - loss: 0.0204 - accuracy: 0.9898 - val_loss: 1.6348 - val_accuracy: 0.6618\n",
            "Epoch 48/100\n",
            "30/30 [==============================] - 30s 988ms/step - loss: 0.0237 - accuracy: 0.9892 - val_loss: 1.4643 - val_accuracy: 0.6618\n",
            "Epoch 49/100\n",
            "30/30 [==============================] - 30s 990ms/step - loss: 0.0220 - accuracy: 0.9903 - val_loss: 1.5294 - val_accuracy: 0.6570\n",
            "Epoch 50/100\n",
            "30/30 [==============================] - 28s 945ms/step - loss: 0.0208 - accuracy: 0.9908 - val_loss: 1.5514 - val_accuracy: 0.6570\n",
            "Epoch 51/100\n",
            "30/30 [==============================] - 30s 985ms/step - loss: 0.0225 - accuracy: 0.9887 - val_loss: 1.6354 - val_accuracy: 0.6473\n",
            "Epoch 52/100\n",
            "30/30 [==============================] - 27s 912ms/step - loss: 0.0188 - accuracy: 0.9914 - val_loss: 1.6526 - val_accuracy: 0.6473\n",
            "Epoch 53/100\n",
            "30/30 [==============================] - 29s 987ms/step - loss: 0.0184 - accuracy: 0.9914 - val_loss: 1.6741 - val_accuracy: 0.6473\n",
            "Epoch 54/100\n",
            "30/30 [==============================] - 30s 994ms/step - loss: 0.0233 - accuracy: 0.9871 - val_loss: 1.6226 - val_accuracy: 0.6377\n",
            "Epoch 55/100\n",
            "30/30 [==============================] - 29s 976ms/step - loss: 0.0210 - accuracy: 0.9892 - val_loss: 1.6543 - val_accuracy: 0.6667\n",
            "Epoch 56/100\n",
            "30/30 [==============================] - 29s 976ms/step - loss: 0.0184 - accuracy: 0.9919 - val_loss: 1.6396 - val_accuracy: 0.6667\n",
            "Epoch 57/100\n",
            "30/30 [==============================] - 28s 944ms/step - loss: 0.0193 - accuracy: 0.9908 - val_loss: 1.5527 - val_accuracy: 0.6570\n",
            "Epoch 58/100\n",
            "30/30 [==============================] - 29s 965ms/step - loss: 0.0157 - accuracy: 0.9914 - val_loss: 1.6495 - val_accuracy: 0.6570\n",
            "Epoch 59/100\n",
            "30/30 [==============================] - 29s 953ms/step - loss: 0.0162 - accuracy: 0.9908 - val_loss: 1.6916 - val_accuracy: 0.6522\n",
            "Epoch 60/100\n",
            "30/30 [==============================] - 28s 938ms/step - loss: 0.0181 - accuracy: 0.9925 - val_loss: 1.7168 - val_accuracy: 0.6570\n",
            "Epoch 61/100\n",
            "30/30 [==============================] - 29s 979ms/step - loss: 0.0190 - accuracy: 0.9887 - val_loss: 1.7290 - val_accuracy: 0.6425\n",
            "Epoch 62/100\n",
            "30/30 [==============================] - 29s 976ms/step - loss: 0.0192 - accuracy: 0.9903 - val_loss: 1.8001 - val_accuracy: 0.6377\n",
            "Epoch 63/100\n",
            "30/30 [==============================] - 29s 972ms/step - loss: 0.0185 - accuracy: 0.9898 - val_loss: 1.7040 - val_accuracy: 0.6522\n",
            "Epoch 64/100\n",
            "30/30 [==============================] - 29s 972ms/step - loss: 0.0185 - accuracy: 0.9919 - val_loss: 1.7084 - val_accuracy: 0.6522\n",
            "Epoch 65/100\n",
            "30/30 [==============================] - 29s 954ms/step - loss: 0.0197 - accuracy: 0.9892 - val_loss: 1.6654 - val_accuracy: 0.6570\n",
            "Epoch 66/100\n",
            "30/30 [==============================] - 29s 960ms/step - loss: 0.0188 - accuracy: 0.9892 - val_loss: 1.7717 - val_accuracy: 0.6570\n",
            "Epoch 67/100\n",
            "30/30 [==============================] - 29s 971ms/step - loss: 0.0183 - accuracy: 0.9919 - val_loss: 1.7558 - val_accuracy: 0.6329\n",
            "Epoch 68/100\n",
            "30/30 [==============================] - 29s 958ms/step - loss: 0.0171 - accuracy: 0.9903 - val_loss: 1.7373 - val_accuracy: 0.6522\n",
            "Epoch 69/100\n",
            "30/30 [==============================] - 29s 978ms/step - loss: 0.0182 - accuracy: 0.9914 - val_loss: 1.7320 - val_accuracy: 0.6570\n",
            "Epoch 70/100\n",
            "30/30 [==============================] - 29s 966ms/step - loss: 0.0182 - accuracy: 0.9908 - val_loss: 1.6448 - val_accuracy: 0.6329\n",
            "Epoch 71/100\n",
            "30/30 [==============================] - 30s 982ms/step - loss: 0.0163 - accuracy: 0.9925 - val_loss: 1.7963 - val_accuracy: 0.6522\n",
            "Epoch 72/100\n",
            "30/30 [==============================] - 30s 985ms/step - loss: 0.0187 - accuracy: 0.9908 - val_loss: 1.6576 - val_accuracy: 0.6473\n",
            "Epoch 73/100\n",
            "30/30 [==============================] - 29s 962ms/step - loss: 0.0191 - accuracy: 0.9903 - val_loss: 1.7154 - val_accuracy: 0.6522\n",
            "Epoch 74/100\n",
            "30/30 [==============================] - 29s 976ms/step - loss: 0.0156 - accuracy: 0.9914 - val_loss: 1.7385 - val_accuracy: 0.6522\n",
            "Epoch 75/100\n",
            "30/30 [==============================] - 29s 968ms/step - loss: 0.0161 - accuracy: 0.9903 - val_loss: 1.7194 - val_accuracy: 0.6522\n",
            "Epoch 76/100\n",
            "30/30 [==============================] - 29s 983ms/step - loss: 0.0167 - accuracy: 0.9903 - val_loss: 1.8048 - val_accuracy: 0.6425\n",
            "Epoch 77/100\n",
            "30/30 [==============================] - 29s 972ms/step - loss: 0.0194 - accuracy: 0.9898 - val_loss: 1.7608 - val_accuracy: 0.6522\n",
            "Epoch 78/100\n",
            "30/30 [==============================] - 29s 971ms/step - loss: 0.0173 - accuracy: 0.9892 - val_loss: 1.7028 - val_accuracy: 0.6425\n",
            "Epoch 79/100\n",
            "30/30 [==============================] - 30s 993ms/step - loss: 0.0155 - accuracy: 0.9903 - val_loss: 1.7149 - val_accuracy: 0.6425\n",
            "Epoch 80/100\n",
            "30/30 [==============================] - 29s 987ms/step - loss: 0.0145 - accuracy: 0.9930 - val_loss: 1.8438 - val_accuracy: 0.6425\n",
            "Epoch 81/100\n",
            "30/30 [==============================] - 29s 978ms/step - loss: 0.0179 - accuracy: 0.9903 - val_loss: 1.7823 - val_accuracy: 0.6377\n",
            "Epoch 82/100\n",
            "30/30 [==============================] - 29s 963ms/step - loss: 0.0153 - accuracy: 0.9914 - val_loss: 1.8623 - val_accuracy: 0.6522\n",
            "Epoch 83/100\n",
            "30/30 [==============================] - 29s 964ms/step - loss: 0.0188 - accuracy: 0.9892 - val_loss: 1.8487 - val_accuracy: 0.6377\n",
            "Epoch 84/100\n",
            "30/30 [==============================] - 29s 982ms/step - loss: 0.0162 - accuracy: 0.9914 - val_loss: 1.7088 - val_accuracy: 0.6473\n",
            "Epoch 85/100\n",
            "30/30 [==============================] - 31s 1s/step - loss: 0.0156 - accuracy: 0.9908 - val_loss: 1.7353 - val_accuracy: 0.6522\n",
            "Epoch 86/100\n",
            "30/30 [==============================] - 29s 978ms/step - loss: 0.0180 - accuracy: 0.9903 - val_loss: 1.7868 - val_accuracy: 0.6329\n",
            "Epoch 87/100\n",
            "30/30 [==============================] - 29s 956ms/step - loss: 0.0162 - accuracy: 0.9914 - val_loss: 1.7463 - val_accuracy: 0.6232\n",
            "Epoch 88/100\n",
            "30/30 [==============================] - 30s 991ms/step - loss: 0.0159 - accuracy: 0.9919 - val_loss: 1.7486 - val_accuracy: 0.6329\n",
            "Epoch 89/100\n",
            "30/30 [==============================] - 30s 986ms/step - loss: 0.0177 - accuracy: 0.9908 - val_loss: 1.9050 - val_accuracy: 0.6377\n",
            "Epoch 90/100\n",
            "30/30 [==============================] - 28s 941ms/step - loss: 0.0157 - accuracy: 0.9892 - val_loss: 1.8127 - val_accuracy: 0.6329\n",
            "Epoch 91/100\n",
            "30/30 [==============================] - 30s 991ms/step - loss: 0.0166 - accuracy: 0.9919 - val_loss: 1.7985 - val_accuracy: 0.6473\n",
            "Epoch 92/100\n",
            "30/30 [==============================] - 29s 953ms/step - loss: 0.0144 - accuracy: 0.9914 - val_loss: 1.7577 - val_accuracy: 0.6329\n",
            "Epoch 93/100\n",
            "30/30 [==============================] - 29s 964ms/step - loss: 0.0152 - accuracy: 0.9919 - val_loss: 1.8406 - val_accuracy: 0.6522\n",
            "Epoch 94/100\n",
            "30/30 [==============================] - 29s 966ms/step - loss: 0.0138 - accuracy: 0.9919 - val_loss: 1.8351 - val_accuracy: 0.6232\n",
            "Epoch 95/100\n",
            "30/30 [==============================] - 29s 958ms/step - loss: 0.0147 - accuracy: 0.9914 - val_loss: 1.8689 - val_accuracy: 0.6473\n",
            "Epoch 96/100\n",
            "30/30 [==============================] - 30s 1s/step - loss: 0.0147 - accuracy: 0.9908 - val_loss: 1.8528 - val_accuracy: 0.6280\n",
            "Epoch 97/100\n",
            "30/30 [==============================] - 29s 958ms/step - loss: 0.0148 - accuracy: 0.9919 - val_loss: 1.8943 - val_accuracy: 0.6280\n",
            "Epoch 98/100\n",
            "30/30 [==============================] - 29s 964ms/step - loss: 0.0163 - accuracy: 0.9914 - val_loss: 1.8009 - val_accuracy: 0.6280\n",
            "Epoch 99/100\n",
            "30/30 [==============================] - 29s 975ms/step - loss: 0.0153 - accuracy: 0.9903 - val_loss: 1.8085 - val_accuracy: 0.6232\n",
            "Epoch 100/100\n",
            "30/30 [==============================] - 30s 986ms/step - loss: 0.0143 - accuracy: 0.9898 - val_loss: 1.8554 - val_accuracy: 0.6329\n"
          ]
        }
      ],
      "source": [
        "history = model.fit(X_train, Y_train, epochs=100, batch_size=64,validation_split=0.1)"
      ]
    },
    {
      "cell_type": "markdown",
      "source": [
        "#Evaluating the Model"
      ],
      "metadata": {
        "id": "gwuMxpgrTJf7"
      }
    },
    {
      "cell_type": "code",
      "execution_count": null,
      "metadata": {
        "id": "9Bns36eTOIXH",
        "outputId": "b3ff4a82-12f9-4ca1-8a1d-0300f576fbc8"
      },
      "outputs": [
        {
          "name": "stdout",
          "output_type": "stream",
          "text": [
            "28/28 [==============================] - 3s 112ms/step - loss: 2.4065 - accuracy: 0.6407\n",
            "Test set\n",
            "  Loss: 2.406\n",
            "  Accuracy: 0.641\n"
          ]
        }
      ],
      "source": [
        "accr = model.evaluate(X_test, Y_test)\n",
        "print('Test set\\n  Loss: {:0.3f}\\n  Accuracy: {:0.3f}'.format(accr[0], accr[1]))"
      ]
    },
    {
      "cell_type": "markdown",
      "source": [
        "#Generating Predictions"
      ],
      "metadata": {
        "id": "xv7zLH6tTNY1"
      }
    },
    {
      "cell_type": "code",
      "execution_count": null,
      "metadata": {
        "id": "auuWerLROIXH",
        "outputId": "bc6d9a0a-bae1-40e0-93d8-6e756546aa2c"
      },
      "outputs": [
        {
          "name": "stdout",
          "output_type": "stream",
          "text": [
            "28/28 [==============================] - 3s 96ms/step\n"
          ]
        }
      ],
      "source": [
        "y_pred = model.predict(X_test)\n",
        "y_pred_labels = y_pred.argmax(axis=1)"
      ]
    },
    {
      "cell_type": "code",
      "execution_count": null,
      "metadata": {
        "id": "VooFtTzBOIXH"
      },
      "outputs": [],
      "source": [
        "y_test_labels = Y_test.argmax(axis=1)"
      ]
    },
    {
      "cell_type": "markdown",
      "source": [
        "#Classification Report"
      ],
      "metadata": {
        "id": "UNlRN_swTQ8T"
      }
    },
    {
      "cell_type": "code",
      "execution_count": null,
      "metadata": {
        "id": "W3Yd7Er3OIXH",
        "outputId": "2dead228-a8f6-48bd-be3e-264c655fcf3e"
      },
      "outputs": [
        {
          "name": "stdout",
          "output_type": "stream",
          "text": [
            "              precision    recall  f1-score   support\n",
            "\n",
            "    negative       0.59      0.49      0.54       225\n",
            "     neutral       0.47      0.48      0.48       209\n",
            "    positive       0.74      0.79      0.76       451\n",
            "\n",
            "    accuracy                           0.64       885\n",
            "   macro avg       0.60      0.59      0.59       885\n",
            "weighted avg       0.64      0.64      0.64       885\n",
            "\n"
          ]
        }
      ],
      "source": [
        "report = classification_report(y_test_labels, y_pred_labels, target_names=label_encoder.classes_)\n",
        "print(report)"
      ]
    },
    {
      "cell_type": "markdown",
      "source": [
        "#Plotting Training & Validation Accuracy and Loss"
      ],
      "metadata": {
        "id": "IDEcGJkkTUvU"
      }
    },
    {
      "cell_type": "code",
      "execution_count": null,
      "metadata": {
        "id": "pnFdIcEQOIXI",
        "outputId": "270e76a0-013f-4361-88a4-5c1aff62cc58"
      },
      "outputs": [
        {
          "data": {
            "image/png": "[encoded data removed]",
            "text/plain": [
              "<Figure size 1200x600 with 2 Axes>"
            ]
          },
          "metadata": {},
          "output_type": "display_data"
        }
      ],
      "source": [
        "plt.figure(figsize=(12, 6))\n",
        "plt.subplot(1, 2, 1)\n",
        "plt.plot(history.history['accuracy'])\n",
        "plt.plot(history.history['val_accuracy'])\n",
        "plt.title('Model Accuracy')\n",
        "plt.ylabel('Accuracy')\n",
        "plt.xlabel('Epoch')\n",
        "plt.legend(['Train', 'Test'], loc='upper left')\n",
        "\n",
        "plt.subplot(1, 2, 2)\n",
        "plt.plot(history.history['loss'])\n",
        "plt.plot(history.history['val_loss'])\n",
        "plt.title('Model Loss')\n",
        "plt.ylabel('Loss')\n",
        "plt.xlabel('Epoch')\n",
        "plt.legend(['Train', 'Test'], loc='upper left')\n",
        "\n",
        "plt.show()\n"
      ]
    }
  ],
  "metadata": {
    "kernelspec": {
      "display_name": "Python 3.9.13 ('modulML')",
      "language": "python",
      "name": "python3"
    },
    "language_info": {
      "codemirror_mode": {
        "name": "ipython",
        "version": 3
      },
      "file_extension": ".py",
      "mimetype": "text/x-python",
      "name": "python",
      "nbconvert_exporter": "python",
      "pygments_lexer": "ipython3",
      "version": "3.9.18"
    },
    "orig_nbformat": 4,
    "vscode": {
      "interpreter": {
        "hash": "96e7b2750c73ae469b1ca2faf9513cc6db120ef9663e43da6282e226001b3afe"
      }
    },
    "colab": {
      "provenance": []
    }
  },
  "nbformat": 4,
  "nbformat_minor": 0
}