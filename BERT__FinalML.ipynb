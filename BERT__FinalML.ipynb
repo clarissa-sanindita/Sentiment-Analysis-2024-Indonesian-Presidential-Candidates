{
  "cells": [
    {
      "cell_type": "markdown",
      "source": [
        "Nama Kelompok:\n",
        "1.   Alviatul Nazila (202010370311293)\n",
        "2.   Clarissa Sanindita Reikisyifa (202010370311232)"
      ],
      "metadata": {
        "id": "fMhA-xmST8ZD"
      }
    },
    {
      "cell_type": "markdown",
      "metadata": {
        "id": "fX3HREiSTgOG"
      },
      "source": [
        "#Import Library"
      ]
    },
    {
      "cell_type": "code",
      "execution_count": null,
      "metadata": {
        "id": "ivmlLlSbQyJ2"
      },
      "outputs": [],
      "source": [
        "import pandas as pd\n",
        "import tensorflow as tf\n",
        "import matplotlib.pyplot as plt\n",
        "import numpy as np\n",
        "\n",
        "from transformers import BertTokenizer, BertForSequenceClassification\n",
        "from tensorflow.keras.losses import CategoricalCrossentropy\n",
        "from sklearn.model_selection import train_test_split\n",
        "from sklearn.metrics import classification_report\n",
        "from sklearn.preprocessing import LabelEncoder\n",
        "from tensorflow.keras.utils import to_categorical\n",
        "from sklearn.metrics import classification_report\n"
      ]
    },
    {
      "cell_type": "markdown",
      "metadata": {
        "id": "FeZsxy1wTgOI"
      },
      "source": [
        "#Load Dataset"
      ]
    },
    {
      "cell_type": "code",
      "execution_count": null,
      "metadata": {
        "colab": {
          "base_uri": "https://localhost:8080/",
          "height": 206
        },
        "id": "3fIvcqsNXr_g",
        "outputId": "e590350f-92ac-4065-cd9d-43a054c6ee99"
      },
      "outputs": [
        {
          "data": {
            "text/html": [
              "<div>\n",
              "<style scoped>\n",
              "    .dataframe tbody tr th:only-of-type {\n",
              "        vertical-align: middle;\n",
              "    }\n",
              "\n",
              "    .dataframe tbody tr th {\n",
              "        vertical-align: top;\n",
              "    }\n",
              "\n",
              "    .dataframe thead th {\n",
              "        text-align: right;\n",
              "    }\n",
              "</style>\n",
              "<table border=\"1\" class=\"dataframe\">\n",
              "  <thead>\n",
              "    <tr style=\"text-align: right;\">\n",
              "      <th></th>\n",
              "      <th>emoticon</th>\n",
              "      <th>convert_emoji</th>\n",
              "      <th>translate_emoji</th>\n",
              "      <th>cleaned</th>\n",
              "      <th>tokenize</th>\n",
              "      <th>normalization</th>\n",
              "      <th>stemmed</th>\n",
              "      <th>stopwords_stemmed</th>\n",
              "      <th>text_string_stemmed</th>\n",
              "      <th>label</th>\n",
              "    </tr>\n",
              "  </thead>\n",
              "  <tbody>\n",
              "    <tr>\n",
              "      <th>3001</th>\n",
              "      <td>@kasrulsani9 @Cintada16 @Leonita_Lestari Prof ...</td>\n",
              "      <td>Prof pak Mahfud MD kok di LAWAN grinning_face ...</td>\n",
              "      <td>Prof pak Mahfud MD kok di LAWAN wajah menyerin...</td>\n",
              "      <td>prof pak mahfud md kok di lawan wajah menyerin...</td>\n",
              "      <td>['prof', 'pak', 'mahfud', 'md', 'kok', 'di', '...</td>\n",
              "      <td>['prof', 'pak', 'mahfud', 'md', 'kok', 'di', '...</td>\n",
              "      <td>['prof', 'pak', 'mahfud', 'md', 'kok', 'di', '...</td>\n",
              "      <td>['prof', 'mahfud', 'lawan', 'seringai', 'serin...</td>\n",
              "      <td>prof mahfud lawan seringai seringai bergulingg...</td>\n",
              "      <td>positive</td>\n",
              "    </tr>\n",
              "    <tr>\n",
              "      <th>3002</th>\n",
              "      <td>@Melihat_Indo Alhamdulillah, semakin yakin kem...</td>\n",
              "      <td>Alhamdulillah, semakin yakin kemenangan Ganjar...</td>\n",
              "      <td>Alhamdulillah, semakin yakin kemenangan Ganjar...</td>\n",
              "      <td>alhamdulillah semakin yakin kemenangan ganjar ...</td>\n",
              "      <td>['alhamdulillah', 'semakin', 'yakin', 'kemenan...</td>\n",
              "      <td>['alhamdulillah', 'semakin', 'yakin', 'kemenan...</td>\n",
              "      <td>['alhamdulillah', 'makin', 'yakin', 'menang', ...</td>\n",
              "      <td>['menang', 'ganjar', 'mahfud', 'semangat']</td>\n",
              "      <td>menang ganjar mahfud semangat</td>\n",
              "      <td>positive</td>\n",
              "    </tr>\n",
              "    <tr>\n",
              "      <th>3003</th>\n",
              "      <td>@gus_dibyo Pak Bas sosok yg berkarakter kuat d...</td>\n",
              "      <td>Pak Bas sosok yg berkarakter kuat dan hebat, I...</td>\n",
              "      <td>Pak Bas sosok yg berkarakter kuat dan hebat, I...</td>\n",
              "      <td>pak bas sosok yg berkarakter kuat dan hebat in...</td>\n",
              "      <td>['pak', 'bas', 'sosok', 'yg', 'berkarakter', '...</td>\n",
              "      <td>['pak', 'bas', 'sosok', 'yg', 'berkarakter', '...</td>\n",
              "      <td>['pak', 'bas', 'sosok', 'yg', 'karakter', 'kua...</td>\n",
              "      <td>['sosok', 'karakter', 'kuat', 'hebat', 'insyaa...</td>\n",
              "      <td>sosok karakter kuat hebat insyaallah ganjar ma...</td>\n",
              "      <td>positive</td>\n",
              "    </tr>\n",
              "    <tr>\n",
              "      <th>3004</th>\n",
              "      <td>@Gus_Raharjo Indonesia harus di pimpin oleh or...</td>\n",
              "      <td>Indonesia harus di pimpin oleh orang yg bener2...</td>\n",
              "      <td>Indonesia harus di pimpin oleh orang yg bener2...</td>\n",
              "      <td>indonesia harus di pimpin oleh orang yg bener ...</td>\n",
              "      <td>['indonesia', 'harus', 'di', 'pimpin', 'oleh',...</td>\n",
              "      <td>['indonesia', 'harus', 'di', 'pimpin', 'oleh',...</td>\n",
              "      <td>['indonesia', 'harus', 'di', 'pimpin', 'oleh',...</td>\n",
              "      <td>['indonesia', 'pimpin', 'paham', 'konstitusi',...</td>\n",
              "      <td>indonesia pimpin paham konstitusi ganjar mahfud</td>\n",
              "      <td>positive</td>\n",
              "    </tr>\n",
              "    <tr>\n",
              "      <th>3005</th>\n",
              "      <td>@Leony_aja @ganjarpranowo Gaspol Ganjar-Mahfud...</td>\n",
              "      <td>Gaspol Ganjar-Mahfud</td>\n",
              "      <td>Gaspol Ganjar-Mahfud</td>\n",
              "      <td>gaspol ganjarmahfud</td>\n",
              "      <td>['gaspol', 'ganjarmahfud']</td>\n",
              "      <td>['gaspol', 'ganjarmahfud']</td>\n",
              "      <td>['gaspol', 'ganjarmahfud']</td>\n",
              "      <td>['gaspol', 'ganjarmahfud']</td>\n",
              "      <td>gaspol ganjarmahfud</td>\n",
              "      <td>positive</td>\n",
              "    </tr>\n",
              "  </tbody>\n",
              "</table>\n",
              "</div>"
            ],
            "text/plain": [
              "                                               emoticon  \\\n",
              "3001  @kasrulsani9 @Cintada16 @Leonita_Lestari Prof ...   \n",
              "3002  @Melihat_Indo Alhamdulillah, semakin yakin kem...   \n",
              "3003  @gus_dibyo Pak Bas sosok yg berkarakter kuat d...   \n",
              "3004  @Gus_Raharjo Indonesia harus di pimpin oleh or...   \n",
              "3005  @Leony_aja @ganjarpranowo Gaspol Ganjar-Mahfud...   \n",
              "\n",
              "                                          convert_emoji  \\\n",
              "3001  Prof pak Mahfud MD kok di LAWAN grinning_face ...   \n",
              "3002  Alhamdulillah, semakin yakin kemenangan Ganjar...   \n",
              "3003  Pak Bas sosok yg berkarakter kuat dan hebat, I...   \n",
              "3004  Indonesia harus di pimpin oleh orang yg bener2...   \n",
              "3005                               Gaspol Ganjar-Mahfud   \n",
              "\n",
              "                                        translate_emoji  \\\n",
              "3001  Prof pak Mahfud MD kok di LAWAN wajah menyerin...   \n",
              "3002  Alhamdulillah, semakin yakin kemenangan Ganjar...   \n",
              "3003  Pak Bas sosok yg berkarakter kuat dan hebat, I...   \n",
              "3004  Indonesia harus di pimpin oleh orang yg bener2...   \n",
              "3005                               Gaspol Ganjar-Mahfud   \n",
              "\n",
              "                                                cleaned  \\\n",
              "3001  prof pak mahfud md kok di lawan wajah menyerin...   \n",
              "3002  alhamdulillah semakin yakin kemenangan ganjar ...   \n",
              "3003  pak bas sosok yg berkarakter kuat dan hebat in...   \n",
              "3004  indonesia harus di pimpin oleh orang yg bener ...   \n",
              "3005                                gaspol ganjarmahfud   \n",
              "\n",
              "                                               tokenize  \\\n",
              "3001  ['prof', 'pak', 'mahfud', 'md', 'kok', 'di', '...   \n",
              "3002  ['alhamdulillah', 'semakin', 'yakin', 'kemenan...   \n",
              "3003  ['pak', 'bas', 'sosok', 'yg', 'berkarakter', '...   \n",
              "3004  ['indonesia', 'harus', 'di', 'pimpin', 'oleh',...   \n",
              "3005                         ['gaspol', 'ganjarmahfud']   \n",
              "\n",
              "                                          normalization  \\\n",
              "3001  ['prof', 'pak', 'mahfud', 'md', 'kok', 'di', '...   \n",
              "3002  ['alhamdulillah', 'semakin', 'yakin', 'kemenan...   \n",
              "3003  ['pak', 'bas', 'sosok', 'yg', 'berkarakter', '...   \n",
              "3004  ['indonesia', 'harus', 'di', 'pimpin', 'oleh',...   \n",
              "3005                         ['gaspol', 'ganjarmahfud']   \n",
              "\n",
              "                                                stemmed  \\\n",
              "3001  ['prof', 'pak', 'mahfud', 'md', 'kok', 'di', '...   \n",
              "3002  ['alhamdulillah', 'makin', 'yakin', 'menang', ...   \n",
              "3003  ['pak', 'bas', 'sosok', 'yg', 'karakter', 'kua...   \n",
              "3004  ['indonesia', 'harus', 'di', 'pimpin', 'oleh',...   \n",
              "3005                         ['gaspol', 'ganjarmahfud']   \n",
              "\n",
              "                                      stopwords_stemmed  \\\n",
              "3001  ['prof', 'mahfud', 'lawan', 'seringai', 'serin...   \n",
              "3002         ['menang', 'ganjar', 'mahfud', 'semangat']   \n",
              "3003  ['sosok', 'karakter', 'kuat', 'hebat', 'insyaa...   \n",
              "3004  ['indonesia', 'pimpin', 'paham', 'konstitusi',...   \n",
              "3005                         ['gaspol', 'ganjarmahfud']   \n",
              "\n",
              "                                    text_string_stemmed     label  \n",
              "3001  prof mahfud lawan seringai seringai bergulingg...  positive  \n",
              "3002                      menang ganjar mahfud semangat  positive  \n",
              "3003  sosok karakter kuat hebat insyaallah ganjar ma...  positive  \n",
              "3004    indonesia pimpin paham konstitusi ganjar mahfud  positive  \n",
              "3005                                gaspol ganjarmahfud  positive  "
            ]
          },
          "execution_count": 24,
          "metadata": {},
          "output_type": "execute_result"
        }
      ],
      "source": [
        "url = 'G:\\My Drive\\Batik Project\\GAN\\Icha\\BatikGAN\\ML\\preprocessing\\combine_data_proses.csv'\n",
        "df = pd.read_csv(url)\n",
        "df.tail()"
      ]
    },
    {
      "cell_type": "code",
      "execution_count": null,
      "metadata": {
        "id": "iXU_YJScTgOK",
        "outputId": "c9b4645a-9cfe-4dfe-9409-887b55d9b9ea"
      },
      "outputs": [
        {
          "name": "stdout",
          "output_type": "stream",
          "text": [
            "<class 'pandas.core.frame.DataFrame'>\n",
            "RangeIndex: 3006 entries, 0 to 3005\n",
            "Data columns (total 10 columns):\n",
            " #   Column               Non-Null Count  Dtype \n",
            "---  ------               --------------  ----- \n",
            " 0   emoticon             3006 non-null   object\n",
            " 1   convert_emoji        3004 non-null   object\n",
            " 2   translate_emoji      3004 non-null   object\n",
            " 3   cleaned              3004 non-null   object\n",
            " 4   tokenize             3006 non-null   object\n",
            " 5   normalization        3006 non-null   object\n",
            " 6   stemmed              3006 non-null   object\n",
            " 7   stopwords_stemmed    3006 non-null   object\n",
            " 8   text_string_stemmed  2999 non-null   object\n",
            " 9   label                3006 non-null   object\n",
            "dtypes: object(10)\n",
            "memory usage: 235.0+ KB\n"
          ]
        }
      ],
      "source": [
        "df.info()"
      ]
    },
    {
      "cell_type": "code",
      "execution_count": null,
      "metadata": {
        "id": "eWSWWkOyTgOK",
        "outputId": "30460cc6-4c02-47b0-bd83-917dd4c5bc15"
      },
      "outputs": [
        {
          "data": {
            "text/html": [
              "<div>\n",
              "<style scoped>\n",
              "    .dataframe tbody tr th:only-of-type {\n",
              "        vertical-align: middle;\n",
              "    }\n",
              "\n",
              "    .dataframe tbody tr th {\n",
              "        vertical-align: top;\n",
              "    }\n",
              "\n",
              "    .dataframe thead th {\n",
              "        text-align: right;\n",
              "    }\n",
              "</style>\n",
              "<table border=\"1\" class=\"dataframe\">\n",
              "  <thead>\n",
              "    <tr style=\"text-align: right;\">\n",
              "      <th></th>\n",
              "      <th>emoticon</th>\n",
              "      <th>convert_emoji</th>\n",
              "      <th>translate_emoji</th>\n",
              "      <th>cleaned</th>\n",
              "      <th>tokenize</th>\n",
              "      <th>normalization</th>\n",
              "      <th>stemmed</th>\n",
              "      <th>stopwords_stemmed</th>\n",
              "      <th>text_string_stemmed</th>\n",
              "      <th>label</th>\n",
              "    </tr>\n",
              "  </thead>\n",
              "  <tbody>\n",
              "    <tr>\n",
              "      <th>count</th>\n",
              "      <td>3006</td>\n",
              "      <td>3004</td>\n",
              "      <td>3004</td>\n",
              "      <td>3004</td>\n",
              "      <td>3006</td>\n",
              "      <td>3006</td>\n",
              "      <td>3006</td>\n",
              "      <td>3006</td>\n",
              "      <td>2999</td>\n",
              "      <td>3006</td>\n",
              "    </tr>\n",
              "    <tr>\n",
              "      <th>unique</th>\n",
              "      <td>2939</td>\n",
              "      <td>2908</td>\n",
              "      <td>2908</td>\n",
              "      <td>2907</td>\n",
              "      <td>2908</td>\n",
              "      <td>2908</td>\n",
              "      <td>2908</td>\n",
              "      <td>2844</td>\n",
              "      <td>2843</td>\n",
              "      <td>3</td>\n",
              "    </tr>\n",
              "    <tr>\n",
              "      <th>top</th>\n",
              "      <td>Sosok Hardjanto yang telah melukis selama 50 t...</td>\n",
              "      <td>Bravo Gus Muhaimin Iskandar untuk Indonesia Ma...</td>\n",
              "      <td>Bravo Gus Muhaimin Iskandar untuk Indonesia Ma...</td>\n",
              "      <td>bravo gus muhaimin iskandar untuk indonesia ma...</td>\n",
              "      <td>['bravo', 'gus', 'muhaimin', 'iskandar', 'untu...</td>\n",
              "      <td>['bravo', 'gus', 'muhaimin', 'iskandar', 'untu...</td>\n",
              "      <td>['bravo', 'gus', 'muhaimin', 'iskandar', 'untu...</td>\n",
              "      <td>['dukung', 'ganjar', 'mahfud']</td>\n",
              "      <td>dukung ganjar mahfud</td>\n",
              "      <td>positive</td>\n",
              "    </tr>\n",
              "    <tr>\n",
              "      <th>freq</th>\n",
              "      <td>4</td>\n",
              "      <td>8</td>\n",
              "      <td>8</td>\n",
              "      <td>8</td>\n",
              "      <td>8</td>\n",
              "      <td>8</td>\n",
              "      <td>8</td>\n",
              "      <td>14</td>\n",
              "      <td>14</td>\n",
              "      <td>1546</td>\n",
              "    </tr>\n",
              "  </tbody>\n",
              "</table>\n",
              "</div>"
            ],
            "text/plain": [
              "                                                 emoticon  \\\n",
              "count                                                3006   \n",
              "unique                                               2939   \n",
              "top     Sosok Hardjanto yang telah melukis selama 50 t...   \n",
              "freq                                                    4   \n",
              "\n",
              "                                            convert_emoji  \\\n",
              "count                                                3004   \n",
              "unique                                               2908   \n",
              "top     Bravo Gus Muhaimin Iskandar untuk Indonesia Ma...   \n",
              "freq                                                    8   \n",
              "\n",
              "                                          translate_emoji  \\\n",
              "count                                                3004   \n",
              "unique                                               2908   \n",
              "top     Bravo Gus Muhaimin Iskandar untuk Indonesia Ma...   \n",
              "freq                                                    8   \n",
              "\n",
              "                                                  cleaned  \\\n",
              "count                                                3004   \n",
              "unique                                               2907   \n",
              "top     bravo gus muhaimin iskandar untuk indonesia ma...   \n",
              "freq                                                    8   \n",
              "\n",
              "                                                 tokenize  \\\n",
              "count                                                3006   \n",
              "unique                                               2908   \n",
              "top     ['bravo', 'gus', 'muhaimin', 'iskandar', 'untu...   \n",
              "freq                                                    8   \n",
              "\n",
              "                                            normalization  \\\n",
              "count                                                3006   \n",
              "unique                                               2908   \n",
              "top     ['bravo', 'gus', 'muhaimin', 'iskandar', 'untu...   \n",
              "freq                                                    8   \n",
              "\n",
              "                                                  stemmed  \\\n",
              "count                                                3006   \n",
              "unique                                               2908   \n",
              "top     ['bravo', 'gus', 'muhaimin', 'iskandar', 'untu...   \n",
              "freq                                                    8   \n",
              "\n",
              "                     stopwords_stemmed   text_string_stemmed     label  \n",
              "count                             3006                  2999      3006  \n",
              "unique                            2844                  2843         3  \n",
              "top     ['dukung', 'ganjar', 'mahfud']  dukung ganjar mahfud  positive  \n",
              "freq                                14                    14      1546  "
            ]
          },
          "execution_count": 26,
          "metadata": {},
          "output_type": "execute_result"
        }
      ],
      "source": [
        "df.describe()"
      ]
    },
    {
      "cell_type": "markdown",
      "metadata": {
        "id": "icKRpgOKTgOL"
      },
      "source": [
        "#Processing Data"
      ]
    },
    {
      "cell_type": "code",
      "execution_count": null,
      "metadata": {
        "colab": {
          "base_uri": "https://localhost:8080/"
        },
        "id": "dkljKBHbYOcV",
        "outputId": "8833dbc5-e844-4dd6-e4ad-441564b97eaa"
      },
      "outputs": [
        {
          "data": {
            "text/plain": [
              "emoticon               0\n",
              "convert_emoji          2\n",
              "translate_emoji        2\n",
              "cleaned                2\n",
              "tokenize               0\n",
              "normalization          0\n",
              "stemmed                0\n",
              "stopwords_stemmed      0\n",
              "text_string_stemmed    7\n",
              "label                  0\n",
              "dtype: int64"
            ]
          },
          "execution_count": 27,
          "metadata": {},
          "output_type": "execute_result"
        }
      ],
      "source": [
        "df.isnull().sum()"
      ]
    },
    {
      "cell_type": "code",
      "execution_count": null,
      "metadata": {
        "colab": {
          "base_uri": "https://localhost:8080/",
          "height": 423
        },
        "id": "xXO0KDfyYa4f",
        "outputId": "8d7c7628-49a8-4089-d037-0af12cb9a97f"
      },
      "outputs": [
        {
          "data": {
            "text/html": [
              "<div>\n",
              "<style scoped>\n",
              "    .dataframe tbody tr th:only-of-type {\n",
              "        vertical-align: middle;\n",
              "    }\n",
              "\n",
              "    .dataframe tbody tr th {\n",
              "        vertical-align: top;\n",
              "    }\n",
              "\n",
              "    .dataframe thead th {\n",
              "        text-align: right;\n",
              "    }\n",
              "</style>\n",
              "<table border=\"1\" class=\"dataframe\">\n",
              "  <thead>\n",
              "    <tr style=\"text-align: right;\">\n",
              "      <th></th>\n",
              "      <th>emoticon</th>\n",
              "      <th>convert_emoji</th>\n",
              "      <th>translate_emoji</th>\n",
              "      <th>cleaned</th>\n",
              "      <th>tokenize</th>\n",
              "      <th>normalization</th>\n",
              "      <th>stemmed</th>\n",
              "      <th>stopwords_stemmed</th>\n",
              "      <th>text_string_stemmed</th>\n",
              "      <th>label</th>\n",
              "    </tr>\n",
              "  </thead>\n",
              "  <tbody>\n",
              "    <tr>\n",
              "      <th>0</th>\n",
              "      <td>@DPP_PKB @cakimiNOW Cak Imin sangat berkarisma...</td>\n",
              "      <td>Cak Imin sangat berkarismatik ....memang cocok...</td>\n",
              "      <td>Cak Imin sangat berkarismatik ....memang cocok...</td>\n",
              "      <td>cak imin sangat berkarismatik memang cocok men...</td>\n",
              "      <td>['cak', 'imin', 'sangat', 'berkarismatik', 'me...</td>\n",
              "      <td>['cak', 'imin', 'sangat', 'berkarismatik', 'me...</td>\n",
              "      <td>['cak', 'imin', 'sangat', 'karismatik', 'meman...</td>\n",
              "      <td>['cak', 'imin', 'karismatik', 'cocok', 'dampin...</td>\n",
              "      <td>cak imin karismatik cocok damping anis</td>\n",
              "      <td>positive</td>\n",
              "    </tr>\n",
              "    <tr>\n",
              "      <th>1</th>\n",
              "      <td>@Adiprayitno_20 lho...lho gak bahaya tah kalau...</td>\n",
              "      <td>lho...lho gak bahaya tah kalau cawapres juga d...</td>\n",
              "      <td>lho...lho gak bahaya tah kalau cawapres juga d...</td>\n",
              "      <td>lholho gak bahaya tah kalau cawapres juga diun...</td>\n",
              "      <td>['lholho', 'gak', 'bahaya', 'tah', 'kalau', 'c...</td>\n",
              "      <td>['lholho', 'gak', 'bahaya', 'tah', 'kalau', 'c...</td>\n",
              "      <td>['lholho', 'gak', 'bahaya', 'tah', 'kalau', 'c...</td>\n",
              "      <td>['lholho', 'gak', 'bahaya', 'cawapres', 'undan...</td>\n",
              "      <td>lholho gak bahaya cawapres undang makan siang</td>\n",
              "      <td>negative</td>\n",
              "    </tr>\n",
              "    <tr>\n",
              "      <th>2</th>\n",
              "      <td>@FandiFrezian @sasbudiarjo @kikysaputrii Karna...</td>\n",
              "      <td>Karna posisinya pak Anis masih jadi Gubernur D...</td>\n",
              "      <td>Karna posisinya pak Anis masih jadi Gubernur D...</td>\n",
              "      <td>karna posisinya pak anis masih jadi gubernur d...</td>\n",
              "      <td>['karna', 'posisinya', 'pak', 'anis', 'masih',...</td>\n",
              "      <td>['karena', 'posisinya', 'pak', 'anis', 'masih'...</td>\n",
              "      <td>['karena', 'posisi', 'pak', 'anis', 'masih', '...</td>\n",
              "      <td>['anis', 'gubernur', 'dki', 'cak', 'imin', 'da...</td>\n",
              "      <td>anis gubernur dki cak imin dateng lapor cawapr...</td>\n",
              "      <td>positive</td>\n",
              "    </tr>\n",
              "    <tr>\n",
              "      <th>3</th>\n",
              "      <td>Cak Imin Tak Khawatir Yenny Dukung Ganjar-Mahf...</td>\n",
              "      <td>Cak Imin Tak Khawatir Yenny Dukung Ganjar-Mahf...</td>\n",
              "      <td>Cak Imin Tak Khawatir Yenny Dukung Ganjar-Mahf...</td>\n",
              "      <td>cak imin tak khawatir yenny dukung ganjarmahfu...</td>\n",
              "      <td>['cak', 'imin', 'tak', 'khawatir', 'yenny', 'd...</td>\n",
              "      <td>['cak', 'imin', 'tak', 'khawatir', 'yenny', 'd...</td>\n",
              "      <td>['cak', 'imin', 'tak', 'khawatir', 'yenny', 'd...</td>\n",
              "      <td>['cak', 'imin', 'khawatir', 'yenny', 'dukung',...</td>\n",
              "      <td>cak imin khawatir yenny dukung ganjarmahfud su...</td>\n",
              "      <td>neutral</td>\n",
              "    </tr>\n",
              "    <tr>\n",
              "      <th>4</th>\n",
              "      <td>Susi Pudjiastuti Dikabarkan Masuk Calon Kapten...</td>\n",
              "      <td>Susi Pudjiastuti Dikabarkan Masuk Calon Kapten...</td>\n",
              "      <td>Susi Pudjiastuti Dikabarkan Masuk Calon Kapten...</td>\n",
              "      <td>susi pudjiastuti dikabarkan masuk calon kapten...</td>\n",
              "      <td>['susi', 'pudjiastuti', 'dikabarkan', 'masuk',...</td>\n",
              "      <td>['susi', 'pudjiastuti', 'dikabarkan', 'masuk',...</td>\n",
              "      <td>['sus', 'pudjiastuti', 'kabar', 'masuk', 'calo...</td>\n",
              "      <td>['sus', 'pudjiastuti', 'kabar', 'calon', 'kapt...</td>\n",
              "      <td>sus pudjiastuti kabar calon kapten timnas mena...</td>\n",
              "      <td>positive</td>\n",
              "    </tr>\n",
              "    <tr>\n",
              "      <th>...</th>\n",
              "      <td>...</td>\n",
              "      <td>...</td>\n",
              "      <td>...</td>\n",
              "      <td>...</td>\n",
              "      <td>...</td>\n",
              "      <td>...</td>\n",
              "      <td>...</td>\n",
              "      <td>...</td>\n",
              "      <td>...</td>\n",
              "      <td>...</td>\n",
              "    </tr>\n",
              "    <tr>\n",
              "      <th>3001</th>\n",
              "      <td>@kasrulsani9 @Cintada16 @Leonita_Lestari Prof ...</td>\n",
              "      <td>Prof pak Mahfud MD kok di LAWAN grinning_face ...</td>\n",
              "      <td>Prof pak Mahfud MD kok di LAWAN wajah menyerin...</td>\n",
              "      <td>prof pak mahfud md kok di lawan wajah menyerin...</td>\n",
              "      <td>['prof', 'pak', 'mahfud', 'md', 'kok', 'di', '...</td>\n",
              "      <td>['prof', 'pak', 'mahfud', 'md', 'kok', 'di', '...</td>\n",
              "      <td>['prof', 'pak', 'mahfud', 'md', 'kok', 'di', '...</td>\n",
              "      <td>['prof', 'mahfud', 'lawan', 'seringai', 'serin...</td>\n",
              "      <td>prof mahfud lawan seringai seringai bergulingg...</td>\n",
              "      <td>positive</td>\n",
              "    </tr>\n",
              "    <tr>\n",
              "      <th>3002</th>\n",
              "      <td>@Melihat_Indo Alhamdulillah, semakin yakin kem...</td>\n",
              "      <td>Alhamdulillah, semakin yakin kemenangan Ganjar...</td>\n",
              "      <td>Alhamdulillah, semakin yakin kemenangan Ganjar...</td>\n",
              "      <td>alhamdulillah semakin yakin kemenangan ganjar ...</td>\n",
              "      <td>['alhamdulillah', 'semakin', 'yakin', 'kemenan...</td>\n",
              "      <td>['alhamdulillah', 'semakin', 'yakin', 'kemenan...</td>\n",
              "      <td>['alhamdulillah', 'makin', 'yakin', 'menang', ...</td>\n",
              "      <td>['menang', 'ganjar', 'mahfud', 'semangat']</td>\n",
              "      <td>menang ganjar mahfud semangat</td>\n",
              "      <td>positive</td>\n",
              "    </tr>\n",
              "    <tr>\n",
              "      <th>3003</th>\n",
              "      <td>@gus_dibyo Pak Bas sosok yg berkarakter kuat d...</td>\n",
              "      <td>Pak Bas sosok yg berkarakter kuat dan hebat, I...</td>\n",
              "      <td>Pak Bas sosok yg berkarakter kuat dan hebat, I...</td>\n",
              "      <td>pak bas sosok yg berkarakter kuat dan hebat in...</td>\n",
              "      <td>['pak', 'bas', 'sosok', 'yg', 'berkarakter', '...</td>\n",
              "      <td>['pak', 'bas', 'sosok', 'yg', 'berkarakter', '...</td>\n",
              "      <td>['pak', 'bas', 'sosok', 'yg', 'karakter', 'kua...</td>\n",
              "      <td>['sosok', 'karakter', 'kuat', 'hebat', 'insyaa...</td>\n",
              "      <td>sosok karakter kuat hebat insyaallah ganjar ma...</td>\n",
              "      <td>positive</td>\n",
              "    </tr>\n",
              "    <tr>\n",
              "      <th>3004</th>\n",
              "      <td>@Gus_Raharjo Indonesia harus di pimpin oleh or...</td>\n",
              "      <td>Indonesia harus di pimpin oleh orang yg bener2...</td>\n",
              "      <td>Indonesia harus di pimpin oleh orang yg bener2...</td>\n",
              "      <td>indonesia harus di pimpin oleh orang yg bener ...</td>\n",
              "      <td>['indonesia', 'harus', 'di', 'pimpin', 'oleh',...</td>\n",
              "      <td>['indonesia', 'harus', 'di', 'pimpin', 'oleh',...</td>\n",
              "      <td>['indonesia', 'harus', 'di', 'pimpin', 'oleh',...</td>\n",
              "      <td>['indonesia', 'pimpin', 'paham', 'konstitusi',...</td>\n",
              "      <td>indonesia pimpin paham konstitusi ganjar mahfud</td>\n",
              "      <td>positive</td>\n",
              "    </tr>\n",
              "    <tr>\n",
              "      <th>3005</th>\n",
              "      <td>@Leony_aja @ganjarpranowo Gaspol Ganjar-Mahfud...</td>\n",
              "      <td>Gaspol Ganjar-Mahfud</td>\n",
              "      <td>Gaspol Ganjar-Mahfud</td>\n",
              "      <td>gaspol ganjarmahfud</td>\n",
              "      <td>['gaspol', 'ganjarmahfud']</td>\n",
              "      <td>['gaspol', 'ganjarmahfud']</td>\n",
              "      <td>['gaspol', 'ganjarmahfud']</td>\n",
              "      <td>['gaspol', 'ganjarmahfud']</td>\n",
              "      <td>gaspol ganjarmahfud</td>\n",
              "      <td>positive</td>\n",
              "    </tr>\n",
              "  </tbody>\n",
              "</table>\n",
              "<p>2999 rows × 10 columns</p>\n",
              "</div>"
            ],
            "text/plain": [
              "                                               emoticon  \\\n",
              "0     @DPP_PKB @cakimiNOW Cak Imin sangat berkarisma...   \n",
              "1     @Adiprayitno_20 lho...lho gak bahaya tah kalau...   \n",
              "2     @FandiFrezian @sasbudiarjo @kikysaputrii Karna...   \n",
              "3     Cak Imin Tak Khawatir Yenny Dukung Ganjar-Mahf...   \n",
              "4     Susi Pudjiastuti Dikabarkan Masuk Calon Kapten...   \n",
              "...                                                 ...   \n",
              "3001  @kasrulsani9 @Cintada16 @Leonita_Lestari Prof ...   \n",
              "3002  @Melihat_Indo Alhamdulillah, semakin yakin kem...   \n",
              "3003  @gus_dibyo Pak Bas sosok yg berkarakter kuat d...   \n",
              "3004  @Gus_Raharjo Indonesia harus di pimpin oleh or...   \n",
              "3005  @Leony_aja @ganjarpranowo Gaspol Ganjar-Mahfud...   \n",
              "\n",
              "                                          convert_emoji  \\\n",
              "0     Cak Imin sangat berkarismatik ....memang cocok...   \n",
              "1     lho...lho gak bahaya tah kalau cawapres juga d...   \n",
              "2     Karna posisinya pak Anis masih jadi Gubernur D...   \n",
              "3     Cak Imin Tak Khawatir Yenny Dukung Ganjar-Mahf...   \n",
              "4     Susi Pudjiastuti Dikabarkan Masuk Calon Kapten...   \n",
              "...                                                 ...   \n",
              "3001  Prof pak Mahfud MD kok di LAWAN grinning_face ...   \n",
              "3002  Alhamdulillah, semakin yakin kemenangan Ganjar...   \n",
              "3003  Pak Bas sosok yg berkarakter kuat dan hebat, I...   \n",
              "3004  Indonesia harus di pimpin oleh orang yg bener2...   \n",
              "3005                               Gaspol Ganjar-Mahfud   \n",
              "\n",
              "                                        translate_emoji  \\\n",
              "0     Cak Imin sangat berkarismatik ....memang cocok...   \n",
              "1     lho...lho gak bahaya tah kalau cawapres juga d...   \n",
              "2     Karna posisinya pak Anis masih jadi Gubernur D...   \n",
              "3     Cak Imin Tak Khawatir Yenny Dukung Ganjar-Mahf...   \n",
              "4     Susi Pudjiastuti Dikabarkan Masuk Calon Kapten...   \n",
              "...                                                 ...   \n",
              "3001  Prof pak Mahfud MD kok di LAWAN wajah menyerin...   \n",
              "3002  Alhamdulillah, semakin yakin kemenangan Ganjar...   \n",
              "3003  Pak Bas sosok yg berkarakter kuat dan hebat, I...   \n",
              "3004  Indonesia harus di pimpin oleh orang yg bener2...   \n",
              "3005                               Gaspol Ganjar-Mahfud   \n",
              "\n",
              "                                                cleaned  \\\n",
              "0     cak imin sangat berkarismatik memang cocok men...   \n",
              "1     lholho gak bahaya tah kalau cawapres juga diun...   \n",
              "2     karna posisinya pak anis masih jadi gubernur d...   \n",
              "3     cak imin tak khawatir yenny dukung ganjarmahfu...   \n",
              "4     susi pudjiastuti dikabarkan masuk calon kapten...   \n",
              "...                                                 ...   \n",
              "3001  prof pak mahfud md kok di lawan wajah menyerin...   \n",
              "3002  alhamdulillah semakin yakin kemenangan ganjar ...   \n",
              "3003  pak bas sosok yg berkarakter kuat dan hebat in...   \n",
              "3004  indonesia harus di pimpin oleh orang yg bener ...   \n",
              "3005                                gaspol ganjarmahfud   \n",
              "\n",
              "                                               tokenize  \\\n",
              "0     ['cak', 'imin', 'sangat', 'berkarismatik', 'me...   \n",
              "1     ['lholho', 'gak', 'bahaya', 'tah', 'kalau', 'c...   \n",
              "2     ['karna', 'posisinya', 'pak', 'anis', 'masih',...   \n",
              "3     ['cak', 'imin', 'tak', 'khawatir', 'yenny', 'd...   \n",
              "4     ['susi', 'pudjiastuti', 'dikabarkan', 'masuk',...   \n",
              "...                                                 ...   \n",
              "3001  ['prof', 'pak', 'mahfud', 'md', 'kok', 'di', '...   \n",
              "3002  ['alhamdulillah', 'semakin', 'yakin', 'kemenan...   \n",
              "3003  ['pak', 'bas', 'sosok', 'yg', 'berkarakter', '...   \n",
              "3004  ['indonesia', 'harus', 'di', 'pimpin', 'oleh',...   \n",
              "3005                         ['gaspol', 'ganjarmahfud']   \n",
              "\n",
              "                                          normalization  \\\n",
              "0     ['cak', 'imin', 'sangat', 'berkarismatik', 'me...   \n",
              "1     ['lholho', 'gak', 'bahaya', 'tah', 'kalau', 'c...   \n",
              "2     ['karena', 'posisinya', 'pak', 'anis', 'masih'...   \n",
              "3     ['cak', 'imin', 'tak', 'khawatir', 'yenny', 'd...   \n",
              "4     ['susi', 'pudjiastuti', 'dikabarkan', 'masuk',...   \n",
              "...                                                 ...   \n",
              "3001  ['prof', 'pak', 'mahfud', 'md', 'kok', 'di', '...   \n",
              "3002  ['alhamdulillah', 'semakin', 'yakin', 'kemenan...   \n",
              "3003  ['pak', 'bas', 'sosok', 'yg', 'berkarakter', '...   \n",
              "3004  ['indonesia', 'harus', 'di', 'pimpin', 'oleh',...   \n",
              "3005                         ['gaspol', 'ganjarmahfud']   \n",
              "\n",
              "                                                stemmed  \\\n",
              "0     ['cak', 'imin', 'sangat', 'karismatik', 'meman...   \n",
              "1     ['lholho', 'gak', 'bahaya', 'tah', 'kalau', 'c...   \n",
              "2     ['karena', 'posisi', 'pak', 'anis', 'masih', '...   \n",
              "3     ['cak', 'imin', 'tak', 'khawatir', 'yenny', 'd...   \n",
              "4     ['sus', 'pudjiastuti', 'kabar', 'masuk', 'calo...   \n",
              "...                                                 ...   \n",
              "3001  ['prof', 'pak', 'mahfud', 'md', 'kok', 'di', '...   \n",
              "3002  ['alhamdulillah', 'makin', 'yakin', 'menang', ...   \n",
              "3003  ['pak', 'bas', 'sosok', 'yg', 'karakter', 'kua...   \n",
              "3004  ['indonesia', 'harus', 'di', 'pimpin', 'oleh',...   \n",
              "3005                         ['gaspol', 'ganjarmahfud']   \n",
              "\n",
              "                                      stopwords_stemmed  \\\n",
              "0     ['cak', 'imin', 'karismatik', 'cocok', 'dampin...   \n",
              "1     ['lholho', 'gak', 'bahaya', 'cawapres', 'undan...   \n",
              "2     ['anis', 'gubernur', 'dki', 'cak', 'imin', 'da...   \n",
              "3     ['cak', 'imin', 'khawatir', 'yenny', 'dukung',...   \n",
              "4     ['sus', 'pudjiastuti', 'kabar', 'calon', 'kapt...   \n",
              "...                                                 ...   \n",
              "3001  ['prof', 'mahfud', 'lawan', 'seringai', 'serin...   \n",
              "3002         ['menang', 'ganjar', 'mahfud', 'semangat']   \n",
              "3003  ['sosok', 'karakter', 'kuat', 'hebat', 'insyaa...   \n",
              "3004  ['indonesia', 'pimpin', 'paham', 'konstitusi',...   \n",
              "3005                         ['gaspol', 'ganjarmahfud']   \n",
              "\n",
              "                                    text_string_stemmed     label  \n",
              "0                cak imin karismatik cocok damping anis  positive  \n",
              "1         lholho gak bahaya cawapres undang makan siang  negative  \n",
              "2     anis gubernur dki cak imin dateng lapor cawapr...  positive  \n",
              "3     cak imin khawatir yenny dukung ganjarmahfud su...   neutral  \n",
              "4     sus pudjiastuti kabar calon kapten timnas mena...  positive  \n",
              "...                                                 ...       ...  \n",
              "3001  prof mahfud lawan seringai seringai bergulingg...  positive  \n",
              "3002                      menang ganjar mahfud semangat  positive  \n",
              "3003  sosok karakter kuat hebat insyaallah ganjar ma...  positive  \n",
              "3004    indonesia pimpin paham konstitusi ganjar mahfud  positive  \n",
              "3005                                gaspol ganjarmahfud  positive  \n",
              "\n",
              "[2999 rows x 10 columns]"
            ]
          },
          "execution_count": 28,
          "metadata": {},
          "output_type": "execute_result"
        }
      ],
      "source": [
        "df.dropna(subset=['text_string_stemmed'], inplace=True)\n",
        "df"
      ]
    },
    {
      "cell_type": "code",
      "execution_count": null,
      "metadata": {
        "colab": {
          "base_uri": "https://localhost:8080/"
        },
        "id": "mSit7oKFYS2k",
        "outputId": "c6de620e-b264-4ac8-83ce-d353c6462d9c"
      },
      "outputs": [
        {
          "data": {
            "text/plain": [
              "50"
            ]
          },
          "execution_count": 29,
          "metadata": {},
          "output_type": "execute_result"
        }
      ],
      "source": [
        "df.duplicated().sum()"
      ]
    },
    {
      "cell_type": "code",
      "execution_count": null,
      "metadata": {
        "id": "XWuJeop9Ykg4"
      },
      "outputs": [],
      "source": [
        "df = df.drop_duplicates()"
      ]
    },
    {
      "cell_type": "code",
      "execution_count": null,
      "metadata": {
        "id": "rq6kSkulTgON",
        "outputId": "4de5678d-89ce-4a6f-9b38-635437ff0347"
      },
      "outputs": [
        {
          "name": "stdout",
          "output_type": "stream",
          "text": [
            "['positive' 'negative' 'neutral']\n"
          ]
        }
      ],
      "source": [
        "unique_labels = df['label'].unique()\n",
        "print(unique_labels)\n"
      ]
    },
    {
      "cell_type": "code",
      "execution_count": null,
      "metadata": {
        "id": "LPTuwDeHI1Ka",
        "outputId": "60ff2343-bdc8-4b0b-8623-88d65ce5bca2"
      },
      "outputs": [
        {
          "name": "stderr",
          "output_type": "stream",
          "text": [
            "C:\\Users\\riset\\AppData\\Local\\Temp\\ipykernel_12120\\1294129029.py:3: SettingWithCopyWarning: \n",
            "A value is trying to be set on a copy of a slice from a DataFrame.\n",
            "Try using .loc[row_indexer,col_indexer] = value instead\n",
            "\n",
            "See the caveats in the documentation: https://pandas.pydata.org/pandas-docs/stable/user_guide/indexing.html#returning-a-view-versus-a-copy\n",
            "  df['sentimen'] = df['label'].map(sentiment_labels)\n"
          ]
        }
      ],
      "source": [
        "sentiment_labels = {'positive': 2, 'negative': 1, 'neutral': 0}\n",
        "df['sentimen'] = df['label'].map(sentiment_labels)"
      ]
    },
    {
      "cell_type": "markdown",
      "metadata": {
        "id": "rU7YZDPDTgON"
      },
      "source": [
        "#Spliting Feature & Label"
      ]
    },
    {
      "cell_type": "code",
      "execution_count": null,
      "metadata": {
        "id": "gRCPE5DOIJhk"
      },
      "outputs": [],
      "source": [
        "X = df['text_string_stemmed']\n",
        "y = df['label']"
      ]
    },
    {
      "cell_type": "markdown",
      "metadata": {
        "id": "S4TU26YFTgON"
      },
      "source": [
        "#Spliting Train, Val, dan Test"
      ]
    },
    {
      "cell_type": "code",
      "execution_count": null,
      "metadata": {
        "id": "VL6_btr2I7vN"
      },
      "outputs": [],
      "source": [
        "X_train, X_test, y_train, y_test = train_test_split( X, y, test_size=0.2, random_state=42)"
      ]
    },
    {
      "cell_type": "code",
      "execution_count": null,
      "metadata": {
        "id": "HhQOgMm_I-e-"
      },
      "outputs": [],
      "source": [
        "tokenizer = BertTokenizer.from_pretrained('bert-base-multilingual-cased')"
      ]
    },
    {
      "cell_type": "markdown",
      "metadata": {
        "id": "8Rjw3I9jTgOO"
      },
      "source": [
        "#Normalisasi Data"
      ]
    },
    {
      "cell_type": "code",
      "execution_count": null,
      "metadata": {
        "id": "FAvAf-Q9K3N5"
      },
      "outputs": [],
      "source": [
        "def encode_reviews(reviews, max_length=100):\n",
        "    return tokenizer.batch_encode_plus(\n",
        "        reviews.tolist(),\n",
        "        max_length=max_length,\n",
        "        padding='max_length',\n",
        "        truncation=True,\n",
        "        return_attention_mask=True,\n",
        "        return_tensors='tf'\n",
        "    )"
      ]
    },
    {
      "cell_type": "code",
      "execution_count": null,
      "metadata": {
        "id": "uBRR6jE0TgOO"
      },
      "outputs": [],
      "source": [
        "encoded_X_train = encode_reviews(X_train)\n",
        "encoded_X_test = encode_reviews(X_test)"
      ]
    },
    {
      "cell_type": "code",
      "execution_count": null,
      "metadata": {
        "id": "x4--EECyTgOO"
      },
      "outputs": [],
      "source": [
        "label_encoder = LabelEncoder()\n",
        "label_encoder.fit(y_train)\n",
        "\n",
        "y_train_encoded = label_encoder.transform(y_train)\n",
        "y_test_encoded = label_encoder.transform(y_test)\n",
        "\n",
        "y_train_one_hot = to_categorical(y_train_encoded, num_classes=3)\n",
        "y_test_one_hot = to_categorical(y_test_encoded, num_classes=3)"
      ]
    },
    {
      "cell_type": "markdown",
      "metadata": {
        "id": "52uKc7FjTgOO"
      },
      "source": [
        "# Model"
      ]
    },
    {
      "cell_type": "code",
      "execution_count": null,
      "metadata": {
        "colab": {
          "base_uri": "https://localhost:8080/"
        },
        "id": "HXY5S5JUY8Jk",
        "outputId": "9ce378d2-c0d0-4c9c-e054-5e920093e506"
      },
      "outputs": [
        {
          "name": "stderr",
          "output_type": "stream",
          "text": [
            "Some weights of BertForSequenceClassification were not initialized from the model checkpoint at bert-base-multilingual-cased and are newly initialized: ['classifier.weight', 'classifier.bias']\n",
            "You should probably TRAIN this model on a down-stream task to be able to use it for predictions and inference.\n"
          ]
        }
      ],
      "source": [
        "model = BertForSequenceClassification.from_pretrained('bert-base-multilingual-cased', num_labels=3)"
      ]
    },
    {
      "cell_type": "code",
      "execution_count": null,
      "metadata": {
        "id": "D02DWW21TgOP",
        "outputId": "d7ad4e94-6278-4ddf-b299-cd257732d948"
      },
      "outputs": [
        {
          "name": "stderr",
          "output_type": "stream",
          "text": [
            "All PyTorch model weights were used when initializing TFBertForSequenceClassification.\n",
            "\n",
            "Some weights or buffers of the TF 2.0 model TFBertForSequenceClassification were not initialized from the PyTorch model and are newly initialized: ['classifier.weight', 'classifier.bias']\n",
            "You should probably TRAIN this model on a down-stream task to be able to use it for predictions and inference.\n"
          ]
        }
      ],
      "source": [
        "from transformers import TFBertForSequenceClassification\n",
        "import tensorflow as tf\n",
        "\n",
        "model = TFBertForSequenceClassification.from_pretrained('bert-base-multilingual-cased', num_labels=3)\n",
        "optimizer = tf.keras.optimizers.Adam(learning_rate=5e-5)\n",
        "loss = tf.keras.losses.CategoricalCrossentropy(from_logits=True)\n",
        "\n",
        "model.compile(optimizer=optimizer, loss=loss, metrics=['accuracy'])\n"
      ]
    },
    {
      "cell_type": "markdown",
      "metadata": {
        "id": "Zm7jI20PTgOP"
      },
      "source": [
        "#Training Model"
      ]
    },
    {
      "cell_type": "code",
      "execution_count": null,
      "metadata": {
        "id": "rWzbmgzZTgOP",
        "outputId": "b72204f5-8287-4f97-ce8f-78c23728a7a0"
      },
      "outputs": [
        {
          "name": "stdout",
          "output_type": "stream",
          "text": [
            "Epoch 1/100\n",
            "67/67 [==============================] - 68s 859ms/step - loss: 0.8645 - accuracy: 0.5855 - val_loss: 0.7331 - val_accuracy: 0.6525\n",
            "Epoch 2/100\n",
            "67/67 [==============================] - 50s 741ms/step - loss: 0.7151 - accuracy: 0.6797 - val_loss: 0.7139 - val_accuracy: 0.6992\n",
            "Epoch 3/100\n",
            "67/67 [==============================] - 50s 743ms/step - loss: 0.6159 - accuracy: 0.7400 - val_loss: 0.6605 - val_accuracy: 0.7119\n",
            "Epoch 4/100\n",
            "67/67 [==============================] - 50s 742ms/step - loss: 0.4858 - accuracy: 0.8078 - val_loss: 0.7148 - val_accuracy: 0.6949\n",
            "Epoch 5/100\n",
            "67/67 [==============================] - 48s 709ms/step - loss: 0.3990 - accuracy: 0.8516 - val_loss: 0.7251 - val_accuracy: 0.7203\n",
            "Epoch 6/100\n",
            "67/67 [==============================] - 47s 708ms/step - loss: 0.2418 - accuracy: 0.9195 - val_loss: 1.0009 - val_accuracy: 0.6737\n",
            "Epoch 7/100\n",
            "67/67 [==============================] - 46s 687ms/step - loss: 0.1801 - accuracy: 0.9425 - val_loss: 0.8787 - val_accuracy: 0.7373\n",
            "Epoch 8/100\n",
            "67/67 [==============================] - 46s 684ms/step - loss: 0.1158 - accuracy: 0.9637 - val_loss: 1.2126 - val_accuracy: 0.7203\n",
            "Epoch 9/100\n",
            "67/67 [==============================] - 47s 698ms/step - loss: 0.1117 - accuracy: 0.9633 - val_loss: 1.4088 - val_accuracy: 0.6822\n",
            "Epoch 10/100\n",
            "67/67 [==============================] - 46s 685ms/step - loss: 0.1692 - accuracy: 0.9482 - val_loss: 1.3145 - val_accuracy: 0.6568\n",
            "Epoch 11/100\n",
            "67/67 [==============================] - 46s 686ms/step - loss: 0.0859 - accuracy: 0.9675 - val_loss: 1.4702 - val_accuracy: 0.6822\n",
            "Epoch 12/100\n",
            "67/67 [==============================] - 46s 686ms/step - loss: 0.0711 - accuracy: 0.9783 - val_loss: 1.4371 - val_accuracy: 0.6737\n",
            "Epoch 13/100\n",
            "67/67 [==============================] - 46s 685ms/step - loss: 0.0817 - accuracy: 0.9732 - val_loss: 1.2423 - val_accuracy: 0.7119\n",
            "Epoch 14/100\n",
            "67/67 [==============================] - 46s 686ms/step - loss: 0.0417 - accuracy: 0.9868 - val_loss: 1.5671 - val_accuracy: 0.6822\n",
            "Epoch 15/100\n",
            "67/67 [==============================] - 46s 693ms/step - loss: 0.0330 - accuracy: 0.9873 - val_loss: 1.7501 - val_accuracy: 0.6653\n",
            "Epoch 16/100\n",
            "67/67 [==============================] - 50s 747ms/step - loss: 0.0406 - accuracy: 0.9835 - val_loss: 1.4426 - val_accuracy: 0.6992\n",
            "Epoch 17/100\n",
            "67/67 [==============================] - 46s 686ms/step - loss: 0.0357 - accuracy: 0.9868 - val_loss: 1.6141 - val_accuracy: 0.6907\n",
            "Epoch 18/100\n",
            "67/67 [==============================] - 47s 700ms/step - loss: 0.1008 - accuracy: 0.9736 - val_loss: 1.5962 - val_accuracy: 0.6186\n",
            "Epoch 19/100\n",
            "67/67 [==============================] - 47s 698ms/step - loss: 0.1278 - accuracy: 0.9623 - val_loss: 1.3946 - val_accuracy: 0.6314\n",
            "Epoch 20/100\n",
            "67/67 [==============================] - 46s 691ms/step - loss: 0.0740 - accuracy: 0.9746 - val_loss: 1.4359 - val_accuracy: 0.6822\n",
            "Epoch 21/100\n",
            "67/67 [==============================] - 46s 692ms/step - loss: 0.0395 - accuracy: 0.9868 - val_loss: 1.6622 - val_accuracy: 0.6992\n",
            "Epoch 22/100\n",
            "67/67 [==============================] - 47s 698ms/step - loss: 0.0206 - accuracy: 0.9901 - val_loss: 1.9506 - val_accuracy: 0.6992\n",
            "Epoch 23/100\n",
            "67/67 [==============================] - 46s 685ms/step - loss: 0.0651 - accuracy: 0.9769 - val_loss: 1.6210 - val_accuracy: 0.6992\n",
            "Epoch 24/100\n",
            "67/67 [==============================] - 46s 687ms/step - loss: 0.0478 - accuracy: 0.9816 - val_loss: 1.4540 - val_accuracy: 0.7119\n",
            "Epoch 25/100\n",
            "67/67 [==============================] - 53s 793ms/step - loss: 0.0601 - accuracy: 0.9783 - val_loss: 1.5603 - val_accuracy: 0.6737\n",
            "Epoch 26/100\n",
            "67/67 [==============================] - 56s 840ms/step - loss: 0.0356 - accuracy: 0.9873 - val_loss: 1.7444 - val_accuracy: 0.7034\n",
            "Epoch 27/100\n",
            "67/67 [==============================] - 56s 840ms/step - loss: 0.0329 - accuracy: 0.9878 - val_loss: 1.8953 - val_accuracy: 0.7034\n",
            "Epoch 28/100\n",
            "67/67 [==============================] - 56s 840ms/step - loss: 0.0176 - accuracy: 0.9901 - val_loss: 2.0511 - val_accuracy: 0.6907\n",
            "Epoch 29/100\n",
            "67/67 [==============================] - 56s 839ms/step - loss: 0.0448 - accuracy: 0.9868 - val_loss: 1.8330 - val_accuracy: 0.6780\n",
            "Epoch 30/100\n",
            "67/67 [==============================] - 54s 802ms/step - loss: 0.0905 - accuracy: 0.9713 - val_loss: 1.9620 - val_accuracy: 0.6610\n",
            "Epoch 31/100\n",
            "67/67 [==============================] - 53s 788ms/step - loss: 0.1056 - accuracy: 0.9694 - val_loss: 1.6101 - val_accuracy: 0.6822\n",
            "Epoch 32/100\n",
            "67/67 [==============================] - 53s 789ms/step - loss: 0.0624 - accuracy: 0.9774 - val_loss: 1.6610 - val_accuracy: 0.6737\n",
            "Epoch 33/100\n",
            "67/67 [==============================] - 53s 789ms/step - loss: 0.0422 - accuracy: 0.9849 - val_loss: 1.5902 - val_accuracy: 0.7161\n",
            "Epoch 34/100\n",
            "67/67 [==============================] - 53s 794ms/step - loss: 0.0198 - accuracy: 0.9911 - val_loss: 2.0157 - val_accuracy: 0.6992\n",
            "Epoch 35/100\n",
            "67/67 [==============================] - 53s 795ms/step - loss: 0.0254 - accuracy: 0.9859 - val_loss: 1.6658 - val_accuracy: 0.6864\n",
            "Epoch 36/100\n",
            "67/67 [==============================] - 54s 806ms/step - loss: 0.0375 - accuracy: 0.9854 - val_loss: 2.0459 - val_accuracy: 0.6864\n",
            "Epoch 37/100\n",
            "67/67 [==============================] - 56s 832ms/step - loss: 0.0269 - accuracy: 0.9882 - val_loss: 1.9206 - val_accuracy: 0.6695\n",
            "Epoch 38/100\n",
            "67/67 [==============================] - 57s 856ms/step - loss: 0.0294 - accuracy: 0.9887 - val_loss: 1.9572 - val_accuracy: 0.7034\n",
            "Epoch 39/100\n",
            "67/67 [==============================] - 58s 858ms/step - loss: 0.0185 - accuracy: 0.9906 - val_loss: 2.1064 - val_accuracy: 0.6822\n",
            "Epoch 40/100\n",
            "67/67 [==============================] - 57s 856ms/step - loss: 0.0176 - accuracy: 0.9906 - val_loss: 1.7859 - val_accuracy: 0.6949\n",
            "Epoch 41/100\n",
            "67/67 [==============================] - 57s 852ms/step - loss: 0.0192 - accuracy: 0.9911 - val_loss: 1.9273 - val_accuracy: 0.6864\n",
            "Epoch 42/100\n",
            "67/67 [==============================] - 57s 843ms/step - loss: 0.0362 - accuracy: 0.9816 - val_loss: 2.0849 - val_accuracy: 0.6864\n",
            "Epoch 43/100\n",
            "67/67 [==============================] - 56s 840ms/step - loss: 0.0163 - accuracy: 0.9911 - val_loss: 2.0776 - val_accuracy: 0.7119\n",
            "Epoch 44/100\n",
            "67/67 [==============================] - 56s 831ms/step - loss: 0.0271 - accuracy: 0.9854 - val_loss: 1.9840 - val_accuracy: 0.7034\n",
            "Epoch 45/100\n",
            "67/67 [==============================] - 55s 816ms/step - loss: 0.0524 - accuracy: 0.9807 - val_loss: 2.0557 - val_accuracy: 0.6695\n",
            "Epoch 46/100\n",
            "67/67 [==============================] - 55s 813ms/step - loss: 0.0561 - accuracy: 0.9826 - val_loss: 1.6013 - val_accuracy: 0.6949\n",
            "Epoch 47/100\n",
            "67/67 [==============================] - 54s 811ms/step - loss: 0.0508 - accuracy: 0.9816 - val_loss: 1.6712 - val_accuracy: 0.6780\n",
            "Epoch 48/100\n",
            "67/67 [==============================] - 54s 813ms/step - loss: 0.0485 - accuracy: 0.9826 - val_loss: 1.7288 - val_accuracy: 0.7161\n",
            "Epoch 49/100\n",
            "67/67 [==============================] - 55s 814ms/step - loss: 0.0430 - accuracy: 0.9863 - val_loss: 1.8892 - val_accuracy: 0.6949\n",
            "Epoch 50/100\n",
            "67/67 [==============================] - 54s 812ms/step - loss: 0.0224 - accuracy: 0.9882 - val_loss: 1.8516 - val_accuracy: 0.6949\n",
            "Epoch 51/100\n",
            "67/67 [==============================] - 54s 813ms/step - loss: 0.0161 - accuracy: 0.9920 - val_loss: 1.9156 - val_accuracy: 0.7119\n",
            "Epoch 52/100\n",
            "67/67 [==============================] - 55s 814ms/step - loss: 0.0112 - accuracy: 0.9925 - val_loss: 2.0968 - val_accuracy: 0.7034\n",
            "Epoch 53/100\n",
            "67/67 [==============================] - 54s 805ms/step - loss: 0.0105 - accuracy: 0.9925 - val_loss: 2.1367 - val_accuracy: 0.7076\n",
            "Epoch 54/100\n",
            "67/67 [==============================] - 54s 807ms/step - loss: 0.0119 - accuracy: 0.9901 - val_loss: 2.0843 - val_accuracy: 0.7161\n",
            "Epoch 55/100\n",
            "67/67 [==============================] - 56s 839ms/step - loss: 0.0153 - accuracy: 0.9929 - val_loss: 2.1117 - val_accuracy: 0.6568\n",
            "Epoch 56/100\n",
            "67/67 [==============================] - 58s 858ms/step - loss: 0.0545 - accuracy: 0.9830 - val_loss: 2.0118 - val_accuracy: 0.6737\n",
            "Epoch 57/100\n",
            "67/67 [==============================] - 58s 865ms/step - loss: 0.0307 - accuracy: 0.9878 - val_loss: 1.9992 - val_accuracy: 0.6907\n",
            "Epoch 58/100\n",
            "67/67 [==============================] - 58s 861ms/step - loss: 0.0300 - accuracy: 0.9873 - val_loss: 1.8874 - val_accuracy: 0.6992\n",
            "Epoch 59/100\n",
            "67/67 [==============================] - 58s 859ms/step - loss: 0.0376 - accuracy: 0.9826 - val_loss: 1.6866 - val_accuracy: 0.6822\n",
            "Epoch 60/100\n",
            "67/67 [==============================] - 57s 853ms/step - loss: 0.0594 - accuracy: 0.9816 - val_loss: 1.8388 - val_accuracy: 0.6907\n",
            "Epoch 61/100\n",
            "67/67 [==============================] - 54s 811ms/step - loss: 0.0308 - accuracy: 0.9896 - val_loss: 2.1161 - val_accuracy: 0.6907\n",
            "Epoch 62/100\n",
            "67/67 [==============================] - 57s 850ms/step - loss: 0.0561 - accuracy: 0.9812 - val_loss: 1.9574 - val_accuracy: 0.6483\n",
            "Epoch 63/100\n",
            "67/67 [==============================] - 56s 840ms/step - loss: 0.0404 - accuracy: 0.9845 - val_loss: 1.7850 - val_accuracy: 0.6992\n",
            "Epoch 64/100\n",
            "67/67 [==============================] - 54s 806ms/step - loss: 0.0305 - accuracy: 0.9882 - val_loss: 1.8553 - val_accuracy: 0.6737\n",
            "Epoch 65/100\n",
            "67/67 [==============================] - 54s 805ms/step - loss: 0.0306 - accuracy: 0.9849 - val_loss: 1.7519 - val_accuracy: 0.6822\n",
            "Epoch 66/100\n",
            "67/67 [==============================] - 53s 794ms/step - loss: 0.0643 - accuracy: 0.9783 - val_loss: 1.4811 - val_accuracy: 0.6949\n",
            "Epoch 67/100\n",
            "67/67 [==============================] - 49s 737ms/step - loss: 0.0596 - accuracy: 0.9755 - val_loss: 1.6872 - val_accuracy: 0.6695\n",
            "Epoch 68/100\n",
            "67/67 [==============================] - 50s 744ms/step - loss: 0.0289 - accuracy: 0.9868 - val_loss: 1.7533 - val_accuracy: 0.6992\n",
            "Epoch 69/100\n",
            "67/67 [==============================] - 48s 724ms/step - loss: 0.0216 - accuracy: 0.9906 - val_loss: 2.0220 - val_accuracy: 0.6907\n",
            "Epoch 70/100\n",
            "67/67 [==============================] - 48s 721ms/step - loss: 0.0393 - accuracy: 0.9863 - val_loss: 1.7099 - val_accuracy: 0.6864\n",
            "Epoch 71/100\n",
            "67/67 [==============================] - 49s 735ms/step - loss: 0.0392 - accuracy: 0.9840 - val_loss: 1.9873 - val_accuracy: 0.6907\n",
            "Epoch 72/100\n",
            "67/67 [==============================] - 50s 743ms/step - loss: 0.0514 - accuracy: 0.9821 - val_loss: 1.9046 - val_accuracy: 0.6610\n",
            "Epoch 73/100\n",
            "67/67 [==============================] - 50s 741ms/step - loss: 0.0452 - accuracy: 0.9849 - val_loss: 1.9197 - val_accuracy: 0.6864\n",
            "Epoch 74/100\n",
            "67/67 [==============================] - 53s 795ms/step - loss: 0.0348 - accuracy: 0.9873 - val_loss: 1.8651 - val_accuracy: 0.6695\n",
            "Epoch 75/100\n",
            "67/67 [==============================] - 57s 857ms/step - loss: 0.0424 - accuracy: 0.9845 - val_loss: 1.4919 - val_accuracy: 0.6822\n",
            "Epoch 76/100\n",
            "67/67 [==============================] - 58s 859ms/step - loss: 0.0183 - accuracy: 0.9901 - val_loss: 1.8780 - val_accuracy: 0.6907\n",
            "Epoch 77/100\n",
            "67/67 [==============================] - 57s 857ms/step - loss: 0.0203 - accuracy: 0.9892 - val_loss: 1.8705 - val_accuracy: 0.6907\n",
            "Epoch 78/100\n",
            "67/67 [==============================] - 57s 857ms/step - loss: 0.0132 - accuracy: 0.9920 - val_loss: 2.1016 - val_accuracy: 0.6949\n",
            "Epoch 79/100\n",
            "67/67 [==============================] - 58s 859ms/step - loss: 0.0168 - accuracy: 0.9896 - val_loss: 2.1169 - val_accuracy: 0.6822\n",
            "Epoch 80/100\n",
            "67/67 [==============================] - 58s 858ms/step - loss: 0.0107 - accuracy: 0.9925 - val_loss: 2.2575 - val_accuracy: 0.6780\n",
            "Epoch 81/100\n",
            "67/67 [==============================] - 58s 863ms/step - loss: 0.0106 - accuracy: 0.9915 - val_loss: 2.3007 - val_accuracy: 0.6822\n",
            "Epoch 82/100\n",
            "67/67 [==============================] - 54s 812ms/step - loss: 0.0150 - accuracy: 0.9911 - val_loss: 2.3022 - val_accuracy: 0.6780\n",
            "Epoch 83/100\n",
            "67/67 [==============================] - 54s 807ms/step - loss: 0.0104 - accuracy: 0.9911 - val_loss: 2.3295 - val_accuracy: 0.6780\n",
            "Epoch 84/100\n",
            "67/67 [==============================] - 54s 805ms/step - loss: 0.0139 - accuracy: 0.9920 - val_loss: 2.0796 - val_accuracy: 0.6949\n",
            "Epoch 85/100\n",
            "67/67 [==============================] - 54s 809ms/step - loss: 0.0109 - accuracy: 0.9925 - val_loss: 2.3956 - val_accuracy: 0.6737\n",
            "Epoch 86/100\n",
            "67/67 [==============================] - 54s 806ms/step - loss: 0.0144 - accuracy: 0.9915 - val_loss: 2.4062 - val_accuracy: 0.6737\n",
            "Epoch 87/100\n",
            "67/67 [==============================] - 54s 807ms/step - loss: 0.0141 - accuracy: 0.9915 - val_loss: 2.3599 - val_accuracy: 0.6780\n",
            "Epoch 88/100\n",
            "67/67 [==============================] - 55s 826ms/step - loss: 0.0104 - accuracy: 0.9920 - val_loss: 2.4019 - val_accuracy: 0.6949\n",
            "Epoch 89/100\n",
            "67/67 [==============================] - 57s 858ms/step - loss: 0.0102 - accuracy: 0.9925 - val_loss: 2.4446 - val_accuracy: 0.6780\n",
            "Epoch 90/100\n",
            "67/67 [==============================] - 54s 809ms/step - loss: 0.0119 - accuracy: 0.9934 - val_loss: 2.3345 - val_accuracy: 0.6864\n",
            "Epoch 91/100\n",
            "67/67 [==============================] - 54s 809ms/step - loss: 0.0104 - accuracy: 0.9934 - val_loss: 2.4932 - val_accuracy: 0.6907\n",
            "Epoch 92/100\n",
            "67/67 [==============================] - 55s 824ms/step - loss: 0.0381 - accuracy: 0.9835 - val_loss: 2.2073 - val_accuracy: 0.6822\n",
            "Epoch 93/100\n",
            "67/67 [==============================] - 54s 809ms/step - loss: 0.1334 - accuracy: 0.9604 - val_loss: 1.2220 - val_accuracy: 0.6695\n",
            "Epoch 94/100\n",
            "67/67 [==============================] - 57s 848ms/step - loss: 0.0628 - accuracy: 0.9793 - val_loss: 1.5190 - val_accuracy: 0.6780\n",
            "Epoch 95/100\n",
            "67/67 [==============================] - 57s 850ms/step - loss: 0.0569 - accuracy: 0.9807 - val_loss: 1.9185 - val_accuracy: 0.6992\n",
            "Epoch 96/100\n",
            "67/67 [==============================] - 57s 845ms/step - loss: 0.0349 - accuracy: 0.9878 - val_loss: 1.8703 - val_accuracy: 0.6822\n",
            "Epoch 97/100\n",
            "67/67 [==============================] - 57s 849ms/step - loss: 0.0242 - accuracy: 0.9901 - val_loss: 1.9340 - val_accuracy: 0.6780\n",
            "Epoch 98/100\n",
            "67/67 [==============================] - 56s 833ms/step - loss: 0.0256 - accuracy: 0.9882 - val_loss: 1.6334 - val_accuracy: 0.6949\n",
            "Epoch 99/100\n",
            "67/67 [==============================] - 53s 799ms/step - loss: 0.0306 - accuracy: 0.9887 - val_loss: 1.7486 - val_accuracy: 0.6822\n",
            "Epoch 100/100\n",
            "67/67 [==============================] - 54s 800ms/step - loss: 0.0250 - accuracy: 0.9868 - val_loss: 2.1524 - val_accuracy: 0.6653\n"
          ]
        }
      ],
      "source": [
        "history = model.fit(\n",
        "    {'input_ids': encoded_X_train['input_ids'], 'attention_mask': encoded_X_train['attention_mask']},\n",
        "    y_train_one_hot,\n",
        "    validation_split=0.1,\n",
        "    epochs=100,\n",
        "    batch_size=32\n",
        ")"
      ]
    },
    {
      "cell_type": "markdown",
      "metadata": {
        "id": "M0jxxz7gTgOP"
      },
      "source": [
        "#Evaluasi Model"
      ]
    },
    {
      "cell_type": "code",
      "execution_count": null,
      "metadata": {
        "id": "F0blBQTYTgOP",
        "outputId": "0889d1c6-5de3-49f3-e117-fb82acd71db3"
      },
      "outputs": [
        {
          "name": "stdout",
          "output_type": "stream",
          "text": [
            "19/19 [==============================] - 1s 39ms/step - loss: 2.1454 - accuracy: 0.6881\n",
            "Test Accuracy: 68.81%\n"
          ]
        }
      ],
      "source": [
        "test_loss, test_accuracy = model.evaluate(\n",
        "    {'input_ids': encoded_X_test['input_ids'], 'attention_mask': encoded_X_test['attention_mask']},\n",
        "    y_test_one_hot\n",
        ")\n",
        "\n",
        "print(f\"Test Accuracy: {test_accuracy * 100:.2f}%\")"
      ]
    },
    {
      "cell_type": "markdown",
      "source": [
        "#Plotting Training & Validation Accuracy and Loss"
      ],
      "metadata": {
        "id": "4j6tVg1HU3Fk"
      }
    },
    {
      "cell_type": "code",
      "execution_count": null,
      "metadata": {
        "id": "aWiOqY-GTgOQ",
        "outputId": "365076a1-928c-4d42-c4c1-6e8e1f42c30e"
      },
      "outputs": [
        {
          "data": {
            "image/png": "[encoded data removed]",
            "text/plain": [
              "<Figure size 1200x400 with 2 Axes>"
            ]
          },
          "metadata": {},
          "output_type": "display_data"
        }
      ],
      "source": [
        "def plot_training_history(history):\n",
        "    plt.figure(figsize=(12, 4))\n",
        "\n",
        "    plt.subplot(1, 2, 1)\n",
        "    plt.plot(history.history['loss'], label='Loss')\n",
        "    if 'val_loss' in history.history:\n",
        "        plt.plot(history.history['val_loss'], label='Validation Loss')\n",
        "    plt.title('Training Loss')\n",
        "    plt.xlabel('Epochs')\n",
        "    plt.ylabel('Loss')\n",
        "    plt.legend()\n",
        "\n",
        "    plt.subplot(1, 2, 2)\n",
        "    plt.plot(history.history['accuracy'], label='Accuracy')\n",
        "    if 'val_accuracy' in history.history:\n",
        "        plt.plot(history.history['val_accuracy'], label='Validation Accuracy')\n",
        "    plt.title('Training Accuracy')\n",
        "    plt.xlabel('Epochs')\n",
        "    plt.ylabel('Accuracy')\n",
        "    plt.legend()\n",
        "\n",
        "    plt.show()\n",
        "\n",
        "plot_training_history(history)\n"
      ]
    },
    {
      "cell_type": "markdown",
      "metadata": {
        "id": "aNJCmYxnTgOQ"
      },
      "source": [
        "# Clasification Report"
      ]
    },
    {
      "cell_type": "code",
      "execution_count": null,
      "metadata": {
        "id": "rQNPwo4-TgOQ",
        "outputId": "81d549f6-1775-44ec-e45f-2dbc2c87324b"
      },
      "outputs": [
        {
          "name": "stdout",
          "output_type": "stream",
          "text": [
            "              precision    recall  f1-score   support\n",
            "\n",
            "    negative       0.60      0.57      0.58       142\n",
            "     neutral       0.55      0.44      0.49       152\n",
            "    positive       0.77      0.87      0.82       296\n",
            "\n",
            "    accuracy                           0.69       590\n",
            "   macro avg       0.64      0.63      0.63       590\n",
            "weighted avg       0.67      0.69      0.68       590\n",
            "\n"
          ]
        }
      ],
      "source": [
        "test_pred_array = test_pred[0]\n",
        "test_pred_labels = np.argmax(test_pred_array, axis=1)\n",
        "\n",
        "report = classification_report(y_test_encoded, test_pred_labels, target_names=label_encoder.classes_)\n",
        "print(report)\n"
      ]
    }
  ],
  "metadata": {
    "colab": {
      "provenance": []
    },
    "kernelspec": {
      "display_name": "Python 3.9.13 ('modulML')",
      "language": "python",
      "name": "python3"
    },
    "language_info": {
      "codemirror_mode": {
        "name": "ipython",
        "version": 3
      },
      "file_extension": ".py",
      "mimetype": "text/x-python",
      "name": "python",
      "nbconvert_exporter": "python",
      "pygments_lexer": "ipython3",
      "version": "3.9.18"
    },
    "vscode": {
      "interpreter": {
        "hash": "96e7b2750c73ae469b1ca2faf9513cc6db120ef9663e43da6282e226001b3afe"
      }
    }
  },
  "nbformat": 4,
  "nbformat_minor": 0
}